{
 "cells": [
  {
   "cell_type": "markdown",
   "id": "0bd7331b-15d7-4c6f-b317-a96562f99320",
   "metadata": {},
   "source": [
    "<p>\n",
    "    <b>1. </b>What are keywords in python? Using the keyword library, print all the python keywords.<br><br>\n",
    "    <b>Ans. </b>Python keywords are special reserved words that have specific meanings and purposes and can’t be used for anything but those specific purposes.<br>\n",
    "</p>"
   ]
  },
  {
   "cell_type": "code",
   "execution_count": 4,
   "id": "bf905086-9be2-424b-8717-fee9473d22e8",
   "metadata": {},
   "outputs": [
    {
     "name": "stdout",
     "output_type": "stream",
     "text": [
      "['False', 'None', 'True', 'and', 'as', 'assert', 'async', 'await', 'break', 'class', 'continue', 'def', 'del', 'elif', 'else', 'except', 'finally', 'for', 'from', 'global', 'if', 'import', 'in', 'is', 'lambda', 'nonlocal', 'not', 'or', 'pass', 'raise', 'return', 'try', 'while', 'with', 'yield']\n"
     ]
    }
   ],
   "source": [
    "# Importing module.\n",
    "import keyword \n",
    "print(keyword.kwlist)"
   ]
  },
  {
   "cell_type": "code",
   "execution_count": null,
   "id": "ac1e58ae-6ed1-4d10-b066-ad486498e060",
   "metadata": {},
   "outputs": [],
   "source": []
  },
  {
   "cell_type": "markdown",
   "id": "a82c8c05-dc4f-432d-8730-b0bd9c97738c",
   "metadata": {},
   "source": [
    "<p>\n",
    "    <b>2. </b>What are the rules to create variables in python?<br><br>\n",
    "    <b>Ans. </b>Rules to create variables in python are :-<br>\n",
    "    <b>1- </b>A variable can consist of upper- and lowercase letters, the digits 0-9 and the underscore character.\n",
    "    <br>\n",
    "    <b>2- </b>The first character of a variable cannot be a digit.<br>\n",
    "    <b>3- </b>Keywords like if or the Boolean True are reserved and cannot be used as variable names.<br>\n",
    "    <b>4 -</b>Variables are case-sensitive; therefore x is different from X.\n",
    "</p>"
   ]
  },
  {
   "cell_type": "code",
   "execution_count": null,
   "id": "f52aab60-691a-41d0-a709-51822a8ac60c",
   "metadata": {},
   "outputs": [],
   "source": []
  },
  {
   "cell_type": "markdown",
   "id": "58608b7f-7ef4-4be6-9ce4-119cf47fb029",
   "metadata": {},
   "source": [
    "<p>\n",
    "    <b>3. </b>What are the standards and conventions followed for the nomenclature of variables in\n",
    "python to improve code readability and maintainability?<br><br>\n",
    "    <b>Ans. </b>To improve the code readability and maintainbility the following method should followed by the programmer :<br>\n",
    "    <b>&nbsp;&nbsp;1 - </b>Use snake_case for variable names (all lowercase with underscores between words).<br>\n",
    "    <b>&nbsp;&nbsp;2 - </b>Use descriptive and meaningful names to convey the purpose of the variable.<br>\n",
    "    <b>&nbsp;&nbsp;3 - </b>Avoid single-letter names, except for simple loop variables.<br>\n",
    "    <b>&nbsp;&nbsp;4 - </b>For constants, use ALL_CAPS with underscores between words.<br>\n",
    "    <b>&nbsp;&nbsp;5 - </b>Start private variables with a single underscore (_private_variable).<br>\n",
    "    <b>&nbsp;&nbsp;6 - </b>Start protected variables with two underscores (__protected_variable).<br>\n",
    "    <b>&nbsp;&nbsp;7 - </b>Use CamelCase for class names (start each word with a capital letter).<br>\n",
    "    <b>&nbsp;&nbsp;8 - </b>Avoid using Python keywords or built-in function names as variable names.<br>\n",
    "</p>"
   ]
  },
  {
   "cell_type": "code",
   "execution_count": null,
   "id": "15d21771-e492-4caa-b770-d7e222a12ca6",
   "metadata": {},
   "outputs": [],
   "source": []
  },
  {
   "cell_type": "markdown",
   "id": "31169918-d7fe-480a-b057-62afffd9e319",
   "metadata": {},
   "source": [
    "<p>\n",
    "    <b>4. </b>What will happen if a keyword is used as a variable name?<br><br>\n",
    "    <b>Ans. </b>If you use a keyword as a variable name, the compiler or interpreter will likely raise an error because the keyword is not allowed to be used for any other purpose than its predefined functionality. This error will prevent your program from running or compiling correctly.<br>\n",
    "    <b>Ex- </b>In Python, you cannot use the keyword <b>if</b> as a variable name:\n",
    "</p>"
   ]
  },
  {
   "cell_type": "code",
   "execution_count": 5,
   "id": "bdbbf665-55fc-4640-85e2-7d04a4e7d4ec",
   "metadata": {},
   "outputs": [
    {
     "ename": "SyntaxError",
     "evalue": "invalid syntax (1642264902.py, line 2)",
     "output_type": "error",
     "traceback": [
      "\u001b[1;36m  Cell \u001b[1;32mIn[5], line 2\u001b[1;36m\u001b[0m\n\u001b[1;33m    if = 10\u001b[0m\n\u001b[1;37m       ^\u001b[0m\n\u001b[1;31mSyntaxError\u001b[0m\u001b[1;31m:\u001b[0m invalid syntax\n"
     ]
    }
   ],
   "source": [
    "# This will raise a syntax error\n",
    "if = 10"
   ]
  },
  {
   "cell_type": "code",
   "execution_count": null,
   "id": "30cc26bd-c155-47a6-a6de-ae29e1a4455f",
   "metadata": {},
   "outputs": [],
   "source": []
  },
  {
   "cell_type": "markdown",
   "id": "1aac854b-4105-4584-9646-d7c6b90d5ead",
   "metadata": {},
   "source": [
    "<p>\n",
    "    <b>5. </b>For what purpose def keyword is used?<br><br>\n",
    "    <b>Ans. </b>In Python <b>def</b> keyword is used to create function.<br>\n",
    "    <b>Ex -</b>\n",
    "</p>"
   ]
  },
  {
   "cell_type": "code",
   "execution_count": 9,
   "id": "2140c380-52a6-4c09-8b98-8c70d3ecb2ab",
   "metadata": {},
   "outputs": [
    {
     "name": "stdout",
     "output_type": "stream",
     "text": [
      "13\n"
     ]
    }
   ],
   "source": [
    "#creating function using drf keyword\n",
    "def function_name():  \n",
    "    return 9+4\n",
    "print(function_name())"
   ]
  },
  {
   "cell_type": "code",
   "execution_count": null,
   "id": "3023e16e-9c83-4ad8-aa6b-62b1f6e5934f",
   "metadata": {},
   "outputs": [],
   "source": []
  },
  {
   "cell_type": "markdown",
   "id": "fafb719f-f44f-43e3-8ce5-96ecd4d502b8",
   "metadata": {},
   "source": [
    "<p>\n",
    "    <b>6. </b>What is the operation of this special character ‘\\’?<br><br>\n",
    "    <b>Ans. </b>In Python strings, the backslash<b> \"\\\"</b> is a special character, also called the \"escape\" character. It is used in representing certain whitespace characters: <b>\"\\t\"</b> is a tab, <b>\"\\n\"</b> is a newline, and <b>\"\\r\"</b> is a carriage return.<br>\n",
    "    Conversely, prefixing a special character with <b>\"\\\"</b> turns it into an ordinary character.\n",
    "</p>"
   ]
  },
  {
   "cell_type": "code",
   "execution_count": null,
   "id": "8e8ba496-85ed-4f56-8a84-eaa5061e546e",
   "metadata": {},
   "outputs": [],
   "source": []
  },
  {
   "cell_type": "markdown",
   "id": "ee9817a0-ec0f-4096-99dd-23bf6c2ec3b5",
   "metadata": {},
   "source": [
    "<p>\n",
    "    <b>7. </b>Give an example of the following conditions:<br>\n",
    "    <b>a. </b>Homogeneous list <br>\n",
    "    <b>b. </b>Heterogeneous set <br>\n",
    "    <b>c. </b>Homogeneous tuple <br><br>\n",
    "    <b>Ans.</b>\n",
    "</p>"
   ]
  },
  {
   "cell_type": "code",
   "execution_count": 6,
   "id": "3bd3fb39-9389-457c-a54a-d011731df32d",
   "metadata": {},
   "outputs": [
    {
     "name": "stdout",
     "output_type": "stream",
     "text": [
      "Homogeneous list -- ['France', 'Uruguay', 'Germany', 'Netherlands', 'Ghana']\n",
      "<class 'list'>\n",
      "\n",
      "Hetrogeneous set -- {True, 'Rishabh', 52.7, 10, 'Kumar'}\n",
      "<class 'set'>\n",
      "\n",
      "Homogeneous tuple -- (1, 2, 3, 4, 1, 2, 3, 4, 6, 7, 3, 3, 6, 7, 0)\n",
      "<class 'tuple'>\n",
      "\n"
     ]
    }
   ],
   "source": [
    "# Homogeneous list\n",
    "countries = [\"France\", \"Uruguay\", \"Germany\", \"Netherlands\", \"Ghana\"]\n",
    "print(f\"Homogeneous list -- {countries}\")\n",
    "print(type(countries))\n",
    "print()\n",
    "\n",
    "# Heterogeneous set\n",
    "my_set = {\"Rishabh\", \"Kumar\", 10, 52.7, True}\n",
    "print(f'Hetrogeneous set -- {my_set}')\n",
    "print(type(my_set))\n",
    "print()\n",
    "\n",
    "# Homogeneous tuple\n",
    "my_tuple = (1,2,3,4,1,2,3,4,6,7,3,3,6,7,0)\n",
    "print(f'Homogeneous tuple -- {my_tuple}')\n",
    "print(type(my_tuple))\n",
    "print()"
   ]
  },
  {
   "cell_type": "code",
   "execution_count": null,
   "id": "176e9ade-eeb7-49d1-bb2c-dc68596a3e5b",
   "metadata": {},
   "outputs": [],
   "source": []
  },
  {
   "cell_type": "markdown",
   "id": "5fce009f-9340-43ba-8bdc-559f8ed48dad",
   "metadata": {},
   "source": [
    "<p>\n",
    "    <b>8. </b>Explain the mutable and immutable data types with proper explanation & examples.<br><br>\n",
    "    <b>Ans. </b>Mutable types are those whose values can be changed in place whereas Immutable types are those that can never change their value in place.<br>\n",
    "    <b>Mutable</b> data types in Python are:<br>\n",
    "    Lists, Dictionaries, Sets and User-Defined Classes<br>\n",
    "    <b>Immutable</b> data types in Python are:<br>\n",
    "    Integers, Floating-Point numbers, Booleans, Strings and Tuples.  \n",
    "</p>"
   ]
  },
  {
   "cell_type": "code",
   "execution_count": 5,
   "id": "9283a334-69c4-4bb8-a6ac-e17993d0dd3f",
   "metadata": {},
   "outputs": [
    {
     "name": "stdout",
     "output_type": "stream",
     "text": [
      "2452628373952\n",
      "2452628373952\n",
      "True\n",
      "[4, 5, 6, 7]\n",
      "[4, 5, 6, 7]\n",
      "\n",
      "2452628219376\n",
      "2452628144176\n"
     ]
    }
   ],
   "source": [
    "# Mutable data type\n",
    "values = [4, 5, 6]\n",
    "values2 = values\n",
    "print(id(values))\n",
    "print(id(values2))\n",
    "values.append(7)\n",
    "print(values is values2)\n",
    "print(values)\n",
    "print(values2)\n",
    "\n",
    "print()\n",
    "# Imutable data type\n",
    "text = \"Data Science\"\n",
    "print(id(text))\n",
    "text += \" with Python\"\n",
    "print(id(text))\n"
   ]
  },
  {
   "cell_type": "code",
   "execution_count": null,
   "id": "1a99b11e-d26e-4a22-8f6c-ec3fb177fd1a",
   "metadata": {},
   "outputs": [],
   "source": []
  },
  {
   "cell_type": "markdown",
   "id": "6e2ef469-163f-4168-b6af-8a6a2e7a0880",
   "metadata": {},
   "source": [
    "<p>\n",
    "    <b>9. </b>Write a code to create the given structure using only for loop.<br>\n",
    "    <b>&nbsp;&nbsp;&nbsp;&nbsp;&nbsp;*   </b><br>\n",
    "    <b>&nbsp;&nbsp;&nbsp;***  </b><br>\n",
    "    <b>&nbsp;&nbsp;***** </b><br>\n",
    "    <b>&nbsp;******* </b><br>\n",
    "    <b>********* </b><br><br>\n",
    "    <b>Ans. </b>\n",
    "\n",
    "</p>"
   ]
  },
  {
   "cell_type": "code",
   "execution_count": 4,
   "id": "7024787a-1fa2-46ca-9b82-07b5e0685fe8",
   "metadata": {},
   "outputs": [
    {
     "name": "stdout",
     "output_type": "stream",
     "text": [
      "    *\n",
      "   ***\n",
      "  *****\n",
      " *******\n",
      "*********\n"
     ]
    }
   ],
   "source": [
    "# pyramid star pattern\n",
    "n = 5\n",
    "for i in range(1, n+1):\n",
    "    for j in range(n - i):\n",
    "        print(' ', end='')\n",
    "    for k in range(2 * i - 1):\n",
    "        print('*', end='')\n",
    "    print()"
   ]
  },
  {
   "cell_type": "code",
   "execution_count": null,
   "id": "49b26ccc-dcb0-4b47-b03b-6666c83be416",
   "metadata": {},
   "outputs": [],
   "source": []
  },
  {
   "cell_type": "markdown",
   "id": "fd47a256-9c08-4659-ba3a-4ef72cd0fd36",
   "metadata": {},
   "source": [
    "<p>\n",
    "    <b>10. </b>Write a code to create the given structure using while loop.<br>\n",
    "    <b>|||||||||</b><br>\n",
    "    <b>&nbsp;|||||||</b><br>\n",
    "    <b>&nbsp;&nbsp;||||| </b><br>\n",
    "    <b>&nbsp;&nbsp;&nbsp;||| </b><br>\n",
    "    <b>&nbsp;&nbsp;&nbsp;&nbsp;|</b><br><br>\n",
    "    <b>Ans. </b>\n",
    "</p>"
   ]
  },
  {
   "cell_type": "code",
   "execution_count": 5,
   "id": "66187790-fa33-4caf-87a8-56bb44abfa5c",
   "metadata": {},
   "outputs": [
    {
     "name": "stdout",
     "output_type": "stream",
     "text": [
      "|||||||||\n",
      " |||||||\n",
      "  |||||\n",
      "   |||\n",
      "    |\n"
     ]
    }
   ],
   "source": [
    "# reverse pyramid pattern\n",
    "n = 5\n",
    "\n",
    "for i in range(1, n+1):\n",
    "    # printing spaces\n",
    "    for j in range(i-1):\n",
    "        print(' ', end='')\n",
    "    # printing stars\n",
    "    for j in range(2*(n-i)+1):\n",
    "        print('|', end='')\n",
    "    print()"
   ]
  },
  {
   "cell_type": "code",
   "execution_count": null,
   "id": "720a1aee-35c6-4d7b-81d6-9f361097377c",
   "metadata": {},
   "outputs": [],
   "source": []
  }
 ],
 "metadata": {
  "kernelspec": {
   "display_name": "Python 3 (ipykernel)",
   "language": "python",
   "name": "python3"
  },
  "language_info": {
   "codemirror_mode": {
    "name": "ipython",
    "version": 3
   },
   "file_extension": ".py",
   "mimetype": "text/x-python",
   "name": "python",
   "nbconvert_exporter": "python",
   "pygments_lexer": "ipython3",
   "version": "3.11.3"
  }
 },
 "nbformat": 4,
 "nbformat_minor": 5
}
