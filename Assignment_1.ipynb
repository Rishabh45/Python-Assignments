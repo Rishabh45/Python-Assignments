{
 "cells": [
  {
   "cell_type": "markdown",
   "id": "de0ca013-09c0-43da-b718-6ea125fab9ef",
   "metadata": {},
   "source": [
    "<p><b>1.</b> In the below elements which of them are values or an expression? e.g.: - values can be \n",
    "integer or string and expressions will be mathematical operators.</p\n",
    "\n",
    "<p><b>Ans.</b></p>\n",
    "<p>* :- Expression (Multiplication operator)</p>\n",
    "<p>'hello' :- Value (string)</p>\n",
    "<p>-87.8 :- Value (float)</p>\n",
    "<p>- :- Expression (Subtraction operator)</p>\n",
    "<p>/ :- Expression (Division operator)</p>\n",
    "<p>+ :- Expression (Addition operator)</p>\n",
    "<p>6 :- Value (integer)</p>"
   ]
  },
  {
   "cell_type": "code",
   "execution_count": null,
   "id": "2c32d207-f2ec-4007-ab2d-3eb3dd4c875e",
   "metadata": {},
   "outputs": [],
   "source": []
  },
  {
   "cell_type": "markdown",
   "id": "208697eb-e8ff-4eee-8465-dcdd8f4b66d0",
   "metadata": {},
   "source": [
    "<p><b>2.</b> What is the difference between string and variable?</p>\n",
    "\n",
    "<p><b>Ans.</b> A Variable is a store of information where we store the data, and a String is a type of \r\n",
    "information you would store in a Variable. A String is usually words, enclosed with \" \" .</p\n",
    "\n",
    "<p><b>Example:</b> x =\"My name is Rishabh Kumar\" X is the Variable, and we declared it as a String, \r\n",
    "use the single = to assign the text into it.</\n",
    "\n",
    ">>"
   ]
  },
  {
   "cell_type": "code",
   "execution_count": null,
   "id": "392432e4-0b4e-4a4d-97f5-25ecd20b32ba",
   "metadata": {},
   "outputs": [],
   "source": []
  },
  {
   "cell_type": "markdown",
   "id": "37669e9d-eaa5-4be0-9196-1faf64694742",
   "metadata": {},
   "source": [
    "<p><b>3.</b> Describe three different data types.</p>\n",
    "\n",
    "<p><b>Ans. </b></p>\n",
    "<p><b>Numeric Types:</b> Integer, float and complex</p>\n",
    "<p><b>Sequence Types:</b> List, tuple and string.</p>\n",
    "<p><b>Mapping Type:</b> Dictionary.</p>"
   ]
  },
  {
   "cell_type": "code",
   "execution_count": null,
   "id": "cae27cb5-fe56-4502-962d-f74f80673f06",
   "metadata": {},
   "outputs": [],
   "source": []
  },
  {
   "cell_type": "markdown",
   "id": "6503a899-41a0-42dc-99aa-0733328b99b4",
   "metadata": {},
   "source": [
    "<p><b>4.</b> What is an expression made up of? What do all expressions do?</p>\n",
    "\n",
    "<p><b>Ans.</b> Expression are made up of operands and operators.</p>\n",
    "<p>The expression in Python produces some value or result after being interpreted by the \n",
    "Python interpreter.</p>"
   ]
  },
  {
   "cell_type": "code",
   "execution_count": null,
   "id": "7c6c44fa-7bc2-4b24-99d6-e6334738dd42",
   "metadata": {},
   "outputs": [],
   "source": []
  },
  {
   "cell_type": "markdown",
   "id": "1e4c7600-aa24-4fbe-9390-3286fcd690c3",
   "metadata": {},
   "source": [
    "<p><b>5.</b> This assignment statements, like spam = 10. What is the difference between an \n",
    "expression and   statement</p>\n",
    "<p><b>Ans.</b> Expression are made up of operands and operators.</p>\n",
    "<p><b>Example:</b> x = a + b whereas a & b are operands and (+) is operator.</p>\n",
    "<p>In Python, the statement is an instruction that a python interpreter can execute. In other \n",
    "words, the statement can be anything written in Python language.\n",
    "</p>\n",
    "<p><b>Example:</b> spam = 10 # Statement</p>"
   ]
  },
  {
   "cell_type": "code",
   "execution_count": null,
   "id": "435a6844-3602-4c53-beeb-47f1c0d02fa3",
   "metadata": {},
   "outputs": [],
   "source": []
  },
  {
   "cell_type": "markdown",
   "id": "7b7524af-d685-4e37-9816-c029450729a3",
   "metadata": {},
   "source": [
    "<p><b>6.</b> After running the following code, what does the variable bacon contain?<br>\n",
    "bacon = 22<br>\n",
    "bacon + 1<br>\n",
    "<b>Ans.</b>\n",
    "</p>"
   ]
  },
  {
   "cell_type": "code",
   "execution_count": 2,
   "id": "6aba16b6-644b-4722-b10f-08648f828cc9",
   "metadata": {},
   "outputs": [
    {
     "name": "stdout",
     "output_type": "stream",
     "text": [
      "22\n"
     ]
    }
   ],
   "source": [
    "bacon = 22\n",
    "bacon + 1\n",
    "print(bacon)\n"
   ]
  },
  {
   "cell_type": "code",
   "execution_count": null,
   "id": "79e0ec2b-83ef-4bed-acde-48d784b06fe0",
   "metadata": {},
   "outputs": [],
   "source": []
  },
  {
   "cell_type": "markdown",
   "id": "2ebdfbd2-c41e-40d9-8d33-6993de6f0f2a",
   "metadata": {},
   "source": [
    "<p><b>7.</b> What should the values of the following two terms be?<br>\n",
    "'spam' + 'spamspam'<br>\n",
    "'spam' * 3<br>\n",
    "<b>Ans. </b></p>"
   ]
  },
  {
   "cell_type": "code",
   "execution_count": 4,
   "id": "f5a6a472-0c89-407e-be00-4884667083a4",
   "metadata": {},
   "outputs": [
    {
     "name": "stdout",
     "output_type": "stream",
     "text": [
      "spamspamspam\n",
      "spamspamspam\n"
     ]
    }
   ],
   "source": [
    "print('spam' + 'spamspam')\n",
    "print('spam' * 3)"
   ]
  },
  {
   "cell_type": "code",
   "execution_count": null,
   "id": "aaabc809-fcb6-46dc-84e0-221bf68b41c2",
   "metadata": {},
   "outputs": [],
   "source": []
  },
  {
   "cell_type": "markdown",
   "id": "ad5b1121-0bf2-4457-b01b-a3405b430d78",
   "metadata": {},
   "source": [
    "<p><b>8.</b> Why is eggs a valid variable name while 100 is invalid?<br>\n",
    "<b>Ans.</b> Variable name consist of alphabets, digits and underscore. The first character of the \n",
    "variable must be an alphabet or underscore <b>( _ )</b> that’s the reason eggs are valid variable \n",
    "name and 100 is invalid.</p>"
   ]
  },
  {
   "cell_type": "code",
   "execution_count": null,
   "id": "6c59105a-0759-41f4-9cb7-26f352572c73",
   "metadata": {},
   "outputs": [],
   "source": []
  },
  {
   "cell_type": "markdown",
   "id": "f28dfde1-31d6-483e-9044-7986a788fd31",
   "metadata": {},
   "source": [
    "<p><b>9.</b> What three functions can be used to get the integer, floating-point number, or string \n",
    "version of a value?<br>\n",
    "<b>Ans.</b> For integer function: <b>int()</b><br>\n",
    "            Float function: <b>float()</b><br>\n",
    "            String function: <b>str()</b>\n",
    "</p>"
   ]
  },
  {
   "cell_type": "code",
   "execution_count": null,
   "id": "9063c233-a2b7-45a7-8c72-898b64367786",
   "metadata": {},
   "outputs": [],
   "source": []
  },
  {
   "cell_type": "markdown",
   "id": "563b16ef-0d9b-483e-9f3f-1e2832edb58a",
   "metadata": {},
   "source": [
    "<p><b>10.</b> Why does this expression cause an error? How can you fix it?<br>\n",
    "'I have eaten ' + 99 + ' burritos.'<br>\n",
    "<b>Ans. </b></p>"
   ]
  },
  {
   "cell_type": "code",
   "execution_count": 9,
   "id": "ca2eaf21-0c42-453f-bea6-944b8a2c7ae0",
   "metadata": {},
   "outputs": [
    {
     "name": "stdout",
     "output_type": "stream",
     "text": [
      "I have eaten 99 burritos.\n"
     ]
    }
   ],
   "source": [
    "print('I have eaten ' + str(99) + ' burritos.')"
   ]
  },
  {
   "cell_type": "code",
   "execution_count": null,
   "id": "853c2894-d83d-4a25-8348-578bc32983ca",
   "metadata": {},
   "outputs": [],
   "source": []
  }
 ],
 "metadata": {
  "kernelspec": {
   "display_name": "Python 3 (ipykernel)",
   "language": "python",
   "name": "python3"
  },
  "language_info": {
   "codemirror_mode": {
    "name": "ipython",
    "version": 3
   },
   "file_extension": ".py",
   "mimetype": "text/x-python",
   "name": "python",
   "nbconvert_exporter": "python",
   "pygments_lexer": "ipython3",
   "version": "3.11.3"
  }
 },
 "nbformat": 4,
 "nbformat_minor": 5
}
