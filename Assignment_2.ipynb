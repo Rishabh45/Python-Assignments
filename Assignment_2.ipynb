{
 "cells": [
  {
   "cell_type": "markdown",
   "id": "df2e2d92-1702-41cd-abc7-b7a13fbda8ce",
   "metadata": {},
   "source": [
    "<p><b>1.</b>What are the two values of the Boolean data type? How do you write them?</p>\n",
    "\n",
    "<p><b>Ans. Python boolean type</b> is one of the built-in data types provided by Python, which represents one of the two values i.e. True or False. Generally, it is used to represent the truth values of the expressions.</p>\n",
    "\n",
    "<p><b>Ex - </b></p>"
   ]
  },
  {
   "cell_type": "code",
   "execution_count": 1,
   "id": "360d33fd-1fb6-4934-ae6b-ffeca2da8673",
   "metadata": {},
   "outputs": [
    {
     "name": "stdout",
     "output_type": "stream",
     "text": [
      "False\n",
      "False\n",
      "True\n",
      "True True\n"
     ]
    }
   ],
   "source": [
    "x = 5\n",
    "y = 4\n",
    "\n",
    "print (x<y)\n",
    "print(x == y)\n",
    "print(x>y)\n",
    "print(bool(x),bool(y))"
   ]
  },
  {
   "cell_type": "code",
   "execution_count": null,
   "id": "ac3e443d-c626-4c38-adc4-437f53fdac71",
   "metadata": {},
   "outputs": [],
   "source": []
  },
  {
   "cell_type": "markdown",
   "id": "fff9e840-9714-4939-b02b-9f2c36a91350",
   "metadata": {},
   "source": [
    "<p><b>2.</b> What are the three different types of Boolean operators?</p>\n",
    "\n",
    "<p><b>Ans.</b>The logical operators<b> and, or</b> and <b>not</b> are also referred to as boolean operators. While and as well as or operator needs two operands, which may evaluate to true or false, not operator needs one operand evaluating to true or false. </p>"
   ]
  },
  {
   "cell_type": "code",
   "execution_count": null,
   "id": "0a6f8b6d-2335-4b82-9c98-c8a97f98e889",
   "metadata": {},
   "outputs": [],
   "source": []
  },
  {
   "cell_type": "markdown",
   "id": "ad386352-ba31-4722-aa7d-d0c6094a6984",
   "metadata": {},
   "source": [
    "<p><b>3.</b> Make a list of each Boolean operator's truth tables (i.e. every possible combination of Boolean values for the operator and what it evaluate ). </p>\n",
    "<p><b>Ans. </b></p>\n",
    "<p><b>And table </b></p>\n",
    "<p><b>1. </b>True and True -- True.</p>\n",
    "<p><b>2. </b>True and False -- False.</p>\n",
    "<p><b>3. </b>False and True -- False.</p>\n",
    "<p><b>4. </b>False and False -- False.</p>\n",
    "<p><b>Or table </b></p>\n",
    "<p><b>1. </b>True or True -- True.</p>\n",
    "<p><b>2. </b>True or False -- True.</p>\n",
    "<p><b>3. </b>False or True -- True.</p>\n",
    "<p><b>4. </b>False and False -- False.</p>\n",
    "<p><b>Not table </b></p>\n",
    "<p><b>1. </b>not true -- False.</p>\n",
    "<p><b>1. </b>not False -- True.</p>\n"
   ]
  },
  {
   "cell_type": "code",
   "execution_count": null,
   "id": "5eb096c3-7613-4f56-aa6b-295fb8a52024",
   "metadata": {},
   "outputs": [],
   "source": []
  },
  {
   "cell_type": "markdown",
   "id": "d15ca9f6-33e0-4f09-b461-09b337374a85",
   "metadata": {},
   "source": [
    "<p><b>4.</b> What are the values of the following expressions? </p>\n",
    "\n",
    "<p>(5 > 4) and (3 == 5)</p> \n",
    "<p>not (5 > 4)</p>\n",
    "<p>(5 > 4) or (3 == 5)</p>\n",
    "<p>not ((5 > 4) or (3 == 5)) </p>\n",
    "<p>(True and True) and (True == False)</p>\n",
    "<p>(not False) or (not True) </p>\n",
    "\n",
    "<p><b>Ans. </b></p>"
   ]
  },
  {
   "cell_type": "code",
   "execution_count": 5,
   "id": "33046fcf-f7cc-4368-8b7d-8b84586d57d2",
   "metadata": {},
   "outputs": [
    {
     "data": {
      "text/plain": [
       "False"
      ]
     },
     "execution_count": 5,
     "metadata": {},
     "output_type": "execute_result"
    }
   ],
   "source": [
    "(5 > 4) and (3 == 5)"
   ]
  },
  {
   "cell_type": "code",
   "execution_count": 6,
   "id": "97ac2ee9-1509-4451-b1bd-40b70a2cfcec",
   "metadata": {},
   "outputs": [
    {
     "data": {
      "text/plain": [
       "False"
      ]
     },
     "execution_count": 6,
     "metadata": {},
     "output_type": "execute_result"
    }
   ],
   "source": [
    "not (5 > 4)"
   ]
  },
  {
   "cell_type": "code",
   "execution_count": 7,
   "id": "54e9a666-83b0-4aad-af25-213b4d7c3e64",
   "metadata": {},
   "outputs": [
    {
     "data": {
      "text/plain": [
       "True"
      ]
     },
     "execution_count": 7,
     "metadata": {},
     "output_type": "execute_result"
    }
   ],
   "source": [
    "(5 > 4) or (3 == 5)"
   ]
  },
  {
   "cell_type": "code",
   "execution_count": 8,
   "id": "743685cc-e9f5-47ed-aa0d-2babfd57e6cb",
   "metadata": {},
   "outputs": [
    {
     "data": {
      "text/plain": [
       "False"
      ]
     },
     "execution_count": 8,
     "metadata": {},
     "output_type": "execute_result"
    }
   ],
   "source": [
    "not ((5 > 4) or (3 == 5))"
   ]
  },
  {
   "cell_type": "code",
   "execution_count": 9,
   "id": "aaca4cbd-febd-425a-9ff6-eeabf54a489f",
   "metadata": {},
   "outputs": [
    {
     "data": {
      "text/plain": [
       "False"
      ]
     },
     "execution_count": 9,
     "metadata": {},
     "output_type": "execute_result"
    }
   ],
   "source": [
    "(True and True) and (True == False)"
   ]
  },
  {
   "cell_type": "code",
   "execution_count": 10,
   "id": "f003d899-4d34-424f-89b1-b7b0046f8583",
   "metadata": {},
   "outputs": [
    {
     "data": {
      "text/plain": [
       "True"
      ]
     },
     "execution_count": 10,
     "metadata": {},
     "output_type": "execute_result"
    }
   ],
   "source": [
    "(not False) or (not True)"
   ]
  },
  {
   "cell_type": "code",
   "execution_count": null,
   "id": "77565690-9e04-409b-bdfb-b3eae8845156",
   "metadata": {},
   "outputs": [],
   "source": []
  },
  {
   "cell_type": "markdown",
   "id": "2123a252-13f4-4535-9b1f-5d49d8fea990",
   "metadata": {},
   "source": [
    "<p><b>5.</b> What are the six comparison operators?</p>\n",
    "\n",
    "<p><b>Ans.</b> Comparison operators are used to compare two values:</p>\n",
    "\n",
    "<p><b>== --</b> Equal</p>\n",
    "<p><b>!= --</b> Not Equal</p>\n",
    "<p><b>>  --</b> Greater than</p>\n",
    "<p><b><  --</b> Less than</p>\n",
    "<p><b><= --</b> Less than or equal to</p>\n",
    "<p><b>>= --</b> Greater than or equal to</p>\n",
    "\n"
   ]
  },
  {
   "cell_type": "code",
   "execution_count": null,
   "id": "30fdd281-58b5-4d45-8237-25815309f44b",
   "metadata": {},
   "outputs": [],
   "source": []
  },
  {
   "cell_type": "markdown",
   "id": "24feeb53-3641-4202-bd9a-297aa201e07f",
   "metadata": {},
   "source": [
    "<p><b>6.</b> How do you tell the difference between the equal to and assignment operators? Describe a condition and when you would use one. </p>\n",
    "\n",
    "<p><b>Ans.</b> == is the equal to operator that compares two values and evaluates to a Boolean, while = is the assignment operator that stores a value in a variable.</p>"
   ]
  },
  {
   "cell_type": "code",
   "execution_count": null,
   "id": "f8ebd989-5f31-4ee7-b918-b3fe3b117610",
   "metadata": {},
   "outputs": [],
   "source": []
  },
  {
   "cell_type": "markdown",
   "id": "8f6c7af3-70f7-4f7e-bc7d-982ec34e797f",
   "metadata": {},
   "source": [
    "<p><b>7.</b> Identify the three blocks in this code: </p>\n",
    "\n",
    "<p><b>Ans.</b></p>"
   ]
  },
  {
   "cell_type": "code",
   "execution_count": 15,
   "id": "f4f66b6e-1d03-4155-b847-d34bfb828cda",
   "metadata": {},
   "outputs": [
    {
     "name": "stdout",
     "output_type": "stream",
     "text": [
      "ham\n",
      "spam\n",
      "spam\n"
     ]
    }
   ],
   "source": [
    "spam = 0 \n",
    "\n",
    "if spam == 10: # First block of the code\n",
    "   print('eggs') \n",
    "\n",
    "if spam > 5:   # Second block of the code\n",
    "   print('bacon') \n",
    "\n",
    "else:          # Third block of the code\n",
    "   print('ham')\n",
    "\n",
    "print('spam') \n",
    "print('spam') "
   ]
  },
  {
   "cell_type": "code",
   "execution_count": null,
   "id": "b1d4518d-e2ba-44c8-9d16-939f7fa70fc7",
   "metadata": {},
   "outputs": [],
   "source": []
  },
  {
   "cell_type": "markdown",
   "id": "c322b404-0171-401f-b290-bf3613dbcd8c",
   "metadata": {},
   "source": [
    "<p><b>8.</b> Write code that prints Hello if 1 is stored in spam, prints Howdy if 2 is stored in spam, and prints Greetings! if anything else is stored in spam. </p>\n",
    "\n",
    "<p><b>Ans.</b></p>"
   ]
  },
  {
   "cell_type": "code",
   "execution_count": 15,
   "id": "1d6771a8-46f3-4c0e-bdef-1bb07038333e",
   "metadata": {},
   "outputs": [
    {
     "name": "stdin",
     "output_type": "stream",
     "text": [
      "Enter any number --  1\n"
     ]
    },
    {
     "name": "stdout",
     "output_type": "stream",
     "text": [
      "\n",
      "Hello\n"
     ]
    }
   ],
   "source": [
    "spam = int (input('Enter any number -- '))\n",
    "print()\n",
    "\n",
    "if (spam == 1):\n",
    "    print ('Hello')\n",
    "    \n",
    "elif (spam == 2):\n",
    "    print('Howdy')\n",
    "\n",
    "else:\n",
    "    print('Greeting!')"
   ]
  },
  {
   "cell_type": "code",
   "execution_count": null,
   "id": "0a1f3fe5-86cc-4c56-b2c3-0df0a5bf4637",
   "metadata": {},
   "outputs": [],
   "source": []
  },
  {
   "cell_type": "markdown",
   "id": "427b3561-53fc-49a2-81be-3af879588f72",
   "metadata": {},
   "source": [
    "<p><b>9.</b>If your programme is stuck in an endless loop, what keys you’ll press? </p>\n",
    "\n",
    "<p><b>Ans. </b>The infinite loop was terminated manually by pressing Ctrl + C from the keyboard to provide an external interruption for the program – a direct way to terminate the whole loop which would go on forever.</p>"
   ]
  },
  {
   "cell_type": "code",
   "execution_count": null,
   "id": "18089f05-1643-4b9a-bcec-9ca7d2299409",
   "metadata": {},
   "outputs": [],
   "source": []
  },
  {
   "cell_type": "markdown",
   "id": "1f7c9f84-53a3-4020-99ab-f47568c0a721",
   "metadata": {},
   "source": [
    "<p><b>10.</b> How can you tell the difference between break and continue? </p>\n",
    "\n",
    "<p><b>Ans. Break:</b> A break statement in Python alters the flow of a loop by terminating it once a specified condition is met.</p>\n",
    "\n",
    "<p><b>Continue:</b> The continue statement in Python is used to skip the remaining code inside a loop for the current iteration only.</p>\n",
    "\n",
    "<p><b>Ex - </b></p>"
   ]
  },
  {
   "cell_type": "code",
   "execution_count": 2,
   "id": "96baad35-ec35-4e4f-8846-7862061877fb",
   "metadata": {},
   "outputs": [
    {
     "name": "stdout",
     "output_type": "stream",
     "text": [
      "Iteration: 0\n",
      "Iteration: 1\n",
      "Iteration: 2\n",
      "Iteration: 3\n",
      "Iteration: 4\n"
     ]
    }
   ],
   "source": [
    "# Break statement\n",
    "for num in range(0,10):\n",
    "    if num == 5:\n",
    "        break\n",
    "    print(f'Iteration: {num}')"
   ]
  },
  {
   "cell_type": "code",
   "execution_count": 3,
   "id": "19042c2d-4585-491b-9ba6-49ae35f6988b",
   "metadata": {},
   "outputs": [
    {
     "name": "stdout",
     "output_type": "stream",
     "text": [
      "Iteration: 0\n",
      "Iteration: 1\n",
      "Iteration: 2\n",
      "Iteration: 4\n",
      "Iteration: 5\n"
     ]
    }
   ],
   "source": [
    "for num in range(0,6):\n",
    "    if num == 3:\n",
    "        continue\n",
    "    print(f'Iteration: {num}')"
   ]
  },
  {
   "cell_type": "code",
   "execution_count": null,
   "id": "5bf5a7e5-8eb4-4f5f-813e-38815e8a7095",
   "metadata": {},
   "outputs": [],
   "source": []
  },
  {
   "cell_type": "markdown",
   "id": "4b91993b-1d3d-447f-85b6-bc6af88f847e",
   "metadata": {},
   "source": [
    "<p> <b>11.</b> In a for loop, what is the difference between range(10), range(0, 10), and range(0, 10, 1)?</p>\n",
    "\n",
    "<p><b>Ans. </b> The range() function returns a sequence of numbers, starting from 0 by default, and increments by 1 (by default), and stops before a specified number.</p>"
   ]
  },
  {
   "cell_type": "code",
   "execution_count": 1,
   "id": "54c89aa6-edd9-42fd-9f03-b6f365778011",
   "metadata": {},
   "outputs": [
    {
     "name": "stdout",
     "output_type": "stream",
     "text": [
      "0  1  2  3  4  5  6  7  8  9  \n",
      "0  1  2  3  4  5  6  7  8  9  \n",
      "0  1  2  3  4  5  6  7  8  9  \n"
     ]
    }
   ],
   "source": [
    "# Range required a three parameter (start,stop,step) start(0) and step(increment by 1) are optional.\n",
    "for i in range(10): # Given only stop parameter.\n",
    "    print (i,end='  ')\n",
    "print()\n",
    "\n",
    "for i in range(0,10): # Given two start(by default 0) and stop parameter.\n",
    "    print (i,end='  ')\n",
    "print()\n",
    "\n",
    "for i in range(0,10,1): # Given all three parameter.\n",
    "    print (i,end='  ')\n",
    "print()"
   ]
  },
  {
   "cell_type": "code",
   "execution_count": null,
   "id": "687e331c-3af4-4159-b4d4-91d8d2014b3f",
   "metadata": {},
   "outputs": [],
   "source": []
  },
  {
   "cell_type": "markdown",
   "id": "9faf72e4-c3a3-4654-80d2-21e47ccaa306",
   "metadata": {},
   "source": [
    "<p><b>12.</b> Write a short program that prints the numbers 1 to 10 using a for loop. Then write an equivalent program that prints the numbers 1 to 10 using a while loop. </p>\n",
    "\n",
    "<p><b>Ans. </b></p>"
   ]
  },
  {
   "cell_type": "code",
   "execution_count": 8,
   "id": "5e9bcd88-d796-4502-b211-b95103468b04",
   "metadata": {},
   "outputs": [
    {
     "name": "stdout",
     "output_type": "stream",
     "text": [
      "1  2  3  4  5  6  7  8  9  10  \n",
      "1  2  3  4  5  6  7  8  9  10  "
     ]
    }
   ],
   "source": [
    "for i in range(1,11): # print 1 to 10 by using for loop.\n",
    "    print(i, end ='  ')\n",
    "print()\n",
    "\n",
    "j=1                   # print 1 to 10 by using while loop.\n",
    "while j<= 10:\n",
    "    print(j, end ='  ')\n",
    "    j +=1\n",
    "\n"
   ]
  },
  {
   "cell_type": "code",
   "execution_count": null,
   "id": "7f69052e-4b2d-4116-94d1-d33fb92c7e5d",
   "metadata": {},
   "outputs": [],
   "source": []
  },
  {
   "cell_type": "markdown",
   "id": "5891fa5d-50e0-45e0-84d9-99f7083b502f",
   "metadata": {},
   "source": [
    "<p><b>13.</b> If you had a function named bacon() inside a module named spam, how would you call it after importing spam? </p>\n",
    "\n",
    "<p><b>Ans.</b>This function can be called with <b>spam. bacon()</b></p>"
   ]
  },
  {
   "cell_type": "code",
   "execution_count": null,
   "id": "0c29cbea-0f91-4118-90eb-00607b5582ef",
   "metadata": {},
   "outputs": [],
   "source": []
  }
 ],
 "metadata": {
  "kernelspec": {
   "display_name": "Python 3 (ipykernel)",
   "language": "python",
   "name": "python3"
  },
  "language_info": {
   "codemirror_mode": {
    "name": "ipython",
    "version": 3
   },
   "file_extension": ".py",
   "mimetype": "text/x-python",
   "name": "python",
   "nbconvert_exporter": "python",
   "pygments_lexer": "ipython3",
   "version": "3.11.3"
  }
 },
 "nbformat": 4,
 "nbformat_minor": 5
}
