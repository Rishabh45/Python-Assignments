{
 "cells": [
  {
   "cell_type": "markdown",
   "id": "4fd45f70-3121-49d1-9903-e369ae781cf4",
   "metadata": {},
   "source": [
    "<p><strong>1.</strong> In Python, what is the difference between a built-in function and a user-defined function? Provide an example of each.</p> \n",
    "\n",
    "<p><b>Ans. Built- In Function</b> is the functions whose functionality is pre-defined in Python. The python interpreter has several functions that are always present for use. These functions are known as Built-in Functions. \n",
    "</p>\n",
    "\n",
    "<p><b>Ex –</b> pop (), insert (), remove (), del , append (). </p>\n",
    "\n",
    "<p><b>User-Defined function</b> is a block of reusable code that performs a specific task by defining the keyword (def), followed by the function name, parentheses (), and a colon :. </p>\n",
    "\n",
    "<p><b>Ex -</b></p>\n"
   ]
  },
  {
   "cell_type": "code",
   "execution_count": 8,
   "id": "2550869c-9d14-4ade-a08c-87fb8afcd8bc",
   "metadata": {},
   "outputs": [
    {
     "name": "stdout",
     "output_type": "stream",
     "text": [
      "Addition -- 9\n"
     ]
    }
   ],
   "source": [
    "def First_Fun (): \n",
    "    a = 5 \n",
    "    b = 4 \n",
    "    print('Addition --',a+b) \n",
    "    \n",
    "First_Fun() "
   ]
  },
  {
   "cell_type": "code",
   "execution_count": null,
   "id": "3a59120a-7acb-4259-8a0b-f8938994fa37",
   "metadata": {},
   "outputs": [],
   "source": []
  },
  {
   "cell_type": "markdown",
   "id": "c968cae4-4b64-4b6f-9eb4-07ffde04a207",
   "metadata": {},
   "source": [
    "<p><b>2.</b> How can you pass arguments to a function in Python? Explain the difference between positional arguments and keyword arguments. </p>\n",
    "\n",
    "<p><b>Ans.</b>We can pass the argument while defining the function inside of round bracket () and end with colon :  afterward function needs to be call with the value of argument.\n",
    "</p>\n",
    "\n",
    "<p><b>Positional/Required argument –</b> if a function has argument, then we need to pass the values to function. These values are pass in a sequence and this sequence must be followed strictly.</p>\n",
    "\n",
    "<p><b>Ex -</b></p>"
   ]
  },
  {
   "cell_type": "code",
   "execution_count": 7,
   "id": "e6d3b840-37bb-4130-bf87-3da2d4bd5ef2",
   "metadata": {},
   "outputs": [
    {
     "name": "stdout",
     "output_type": "stream",
     "text": [
      "Addition -- 11\n"
     ]
    }
   ],
   "source": [
    "def First_Fun (a , b): \n",
    "\n",
    "    print('Addition --',a+b) \n",
    "    \n",
    "# Positional argument     \n",
    "First_Fun(5 ,6)     "
   ]
  },
  {
   "cell_type": "markdown",
   "id": "b4ccf3f9-1441-4cf4-a77a-5bbb7949e6a2",
   "metadata": {},
   "source": [
    "<p><b>Keyword/Named argument –</b> Sequence of the argument may be changed by using the   concept of keyword/named argument. </p> \n",
    "<p><b>Ex -</b></p>  "
   ]
  },
  {
   "cell_type": "code",
   "execution_count": 18,
   "id": "26e05ca5-e529-48c3-b471-50eff8288740",
   "metadata": {},
   "outputs": [
    {
     "name": "stdout",
     "output_type": "stream",
     "text": [
      "calculation --  41\n"
     ]
    }
   ],
   "source": [
    "def First_Fun (a, b, c): \n",
    "\n",
    "    print('calculation -- ',a+b*c) \n",
    "    \n",
    "# Keyword argument pass while calling\n",
    "First_Fun(c=4, a=5, b=9)     "
   ]
  },
  {
   "cell_type": "code",
   "execution_count": null,
   "id": "b903a25f-40b7-4f39-afb9-1fac38743215",
   "metadata": {},
   "outputs": [],
   "source": []
  },
  {
   "cell_type": "markdown",
   "id": "a426d6ce-c2b4-4385-81e8-975afd176368",
   "metadata": {},
   "source": [
    "<p><b>3.</b> What is the purpose of the return statement in a function? Can a function have multiple return statements? Explain with an example. </p>\n",
    "\n",
    "<p><b>Ans.</b> A return function is used to end the execution of the function call and “returns” the result (value of the expression following the return keyword) to the caller. The statements after the return statements are not executed. If the return statement is without any expression, then the special value None is returned. </p>\n",
    "\n",
    "<p>Yes, a function can have a multiple return statements. </p>\n",
    "\n",
    "<p><b>Ex -</b></p>"
   ]
  },
  {
   "cell_type": "code",
   "execution_count": 16,
   "id": "0ccc2649-66c8-4697-b3c8-0f76f4d5f0ae",
   "metadata": {},
   "outputs": [
    {
     "name": "stdout",
     "output_type": "stream",
     "text": [
      "14\n",
      "45\n",
      "-4\n"
     ]
    }
   ],
   "source": [
    "def First_Fun (a, b): \n",
    "\n",
    "    return a+b, a*b, a-b \n",
    "\n",
    "total_1,total_2,total_3= First_Fun(a=5, b=9) \n",
    "\n",
    "print (total_1) \n",
    "print (total_2) \n",
    "print (total_3) "
   ]
  },
  {
   "cell_type": "code",
   "execution_count": null,
   "id": "68159d8f-426e-493b-a23d-60093cbe6f32",
   "metadata": {},
   "outputs": [],
   "source": []
  },
  {
   "cell_type": "markdown",
   "id": "bf32ac08-453a-4870-8ce2-c8b1e96db45e",
   "metadata": {},
   "source": [
    "<p><b>4.</b> What are lambda functions in Python? How are they different from regular functions? Provide an example where a lambda function can be useful.<br><br>\n",
    "    <b>Ans. Lambda function - </b>Lambda functions in Python are small, anonymous functions defined using the lambda keyword. They are used to create simple, one-line functions without a formal name. The syntax of a lambda function is: <b>lambda arguments: expression.</b><br>\n",
    "    &nbsp;&nbsp;&nbsp;&nbsp;&nbsp;&nbsp;Differences between lambda functions and regular functions:<br>\n",
    "    <b>&nbsp;&nbsp;&nbsp;&nbsp;&nbsp;&nbsp;&nbsp;&nbsp;&nbsp;1 - Syntax: </b>Lambda functions are concise and limited to a single expression. Regular functions have a full function definition with a block of statements.<br>\n",
    "    <b>&nbsp;&nbsp;&nbsp;&nbsp;&nbsp;&nbsp;&nbsp;&nbsp;&nbsp;2 - Name: </b> Lambda functions are anonymous, meaning they don't have a name. Regular functions have a name and can be called by that name.<br>\n",
    "    <b>&nbsp;&nbsp;&nbsp;&nbsp;&nbsp;&nbsp;&nbsp;&nbsp;&nbsp;3 - Usage: </b>Lambda functions are typically used for simple tasks or as throwaway functions, while regular functions handle more complex operations and can be reused.<br>\r",
    "    <b>&nbsp;&nbsp;&nbsp;&nbsp;&nbsp;&nbsp;&nbsp;&nbsp;&nbsp;&nbsp;&nbsp;&nbsp;&nbsp;&nbsp;&nbsp;&nbsp;&nbsp;Ex - </b>  \n",
    "</p>"
   ]
  },
  {
   "cell_type": "code",
   "execution_count": 1,
   "id": "1c028a80-3cb7-448d-940a-b51d5ea338ce",
   "metadata": {},
   "outputs": [
    {
     "name": "stdout",
     "output_type": "stream",
     "text": [
      "['John', 'Emma', 'Sophia', 'Michael', 'William']\n"
     ]
    }
   ],
   "source": [
    "names = [\"John\", \"Emma\", \"Michael\", \"Sophia\", \"William\"]\n",
    "\n",
    "# Using a lambda function to sort based on name length\n",
    "sorted_names = sorted(names, key=lambda name: len(name))\n",
    "\n",
    "print(sorted_names)  # Output: ['John', 'Emma', 'William', 'Michael', 'Sophia']\n"
   ]
  },
  {
   "cell_type": "code",
   "execution_count": null,
   "id": "979ffa71-6b0e-4a6c-94da-dc6fea76d38f",
   "metadata": {},
   "outputs": [],
   "source": []
  },
  {
   "cell_type": "markdown",
   "id": "2d90f582-8d8c-4dc0-bf5d-3baf9bbf3da7",
   "metadata": {},
   "source": [
    "<p><b>5.</b> How does the concept of \"scope\" apply to functions in Python? Explain the difference between local scope and global scope. </p>\n",
    "\n",
    "<p><b>Ans.</b> A variable is only available from inside the region it is created. This is called scope. </p>\n",
    "\n",
    "<p><b>Local scope -</b> A variable created inside a function belongs to the local scope of that function and can only be used inside that function. </p\n",
    "                                                                                                                                                        \n",
    "<p><b>Ex -</b></p>"
   ]
  },
  {
   "cell_type": "code",
   "execution_count": 17,
   "id": "1dbe2b3c-c74e-4ad1-83e4-269c054ec9e3",
   "metadata": {},
   "outputs": [
    {
     "name": "stdout",
     "output_type": "stream",
     "text": [
      "4\n"
     ]
    }
   ],
   "source": [
    "def fun (): \n",
    "    # variable created inside a function is available inside that function \n",
    "    x = 4      \n",
    "    print(x) \n",
    "fun() "
   ]
  },
  {
   "cell_type": "markdown",
   "id": "57578930-1998-440f-a3d8-e07689d88eaf",
   "metadata": {},
   "source": [
    "<p><b>Global scope -</b> A variable created in the main body of the Python code is a global variable and belongs to the global scope. Global variables are available from within any scope, global and local. </p>\n",
    "<p><b>Ex - </b></p>"
   ]
  },
  {
   "cell_type": "code",
   "execution_count": 13,
   "id": "a1169b8a-0e4a-4a09-bd3c-9b18db50c74f",
   "metadata": {},
   "outputs": [
    {
     "name": "stdout",
     "output_type": "stream",
     "text": [
      "Global variable inside of function  -- 4\n",
      "Global varialbe outside of function -- 4\n"
     ]
    }
   ],
   "source": [
    " # variable created outside of a function is global and can be used by anyone:\n",
    "x = 4\n",
    "\n",
    "def fun (): \n",
    "    print('Global variable inside of function  --',x) \n",
    "\n",
    "fun () \n",
    "print('Global varialbe outside of function --',x) "
   ]
  },
  {
   "cell_type": "code",
   "execution_count": null,
   "id": "7f961b07-ffc9-4a46-9969-147ed8b2c36a",
   "metadata": {},
   "outputs": [],
   "source": []
  },
  {
   "cell_type": "markdown",
   "id": "b117e4de-5409-46fa-b636-698fb4255d52",
   "metadata": {},
   "source": [
    "<p><b>6.</b> How can you use the \"return\" statement in a Python function to return multiple values? </p>\n",
    "\n",
    "<p><b>Ans.</b> In Python, you can return multiple values by simply separating them with commas in the return statement. In Python, comma-separated values are treated as tuples, even without parentheses, unless the syntax requires them. Therefore, the function in the example above returns a tuple. </p>\n",
    "\n",
    "<p><b>Ex -</b></p>"
   ]
  },
  {
   "cell_type": "code",
   "execution_count": 14,
   "id": "4d47f529-9cd6-47a8-9864-a41ae732b458",
   "metadata": {},
   "outputs": [
    {
     "name": "stdout",
     "output_type": "stream",
     "text": [
      "Addition -  570\n",
      "Multiplication -  5600\n",
      "Divison -  56.0\n"
     ]
    }
   ],
   "source": [
    "def test (a,b):\n",
    "    # Returing multiple value in python\n",
    "    return a+b, a*b, a/b \n",
    "\n",
    "add, multip, division = test (560,10) \n",
    "print ('Addition - ',add) \n",
    "print ('Multiplication - ',multip) \n",
    "print ('Divison - ',division) "
   ]
  },
  {
   "cell_type": "code",
   "execution_count": null,
   "id": "ea9d84b8-2498-4657-a187-15f6e4e0249a",
   "metadata": {},
   "outputs": [],
   "source": []
  },
  {
   "cell_type": "markdown",
   "id": "df45f7db-1c59-48b7-9c98-3d466cc14fa3",
   "metadata": {},
   "source": [
    "<p><b>7.</b> What is the difference between the \"pass by value\" and \"pass by reference\" concepts when it comes to function arguments in Python? </p>\n",
    "\n",
    "<p><b>Ans. Pass by value:</b> When Immutable objects such as whole numbers, strings, etc are passed as arguments to the function call, then it can be considered as Call by Value. </p>\n",
    "\n",
    "<p>This is because when the values are modified within the function, then the changes do not get reflected outside the function. </p>\n",
    "\n",
    "<p><b>Ex -</b></p>"
   ]
  },
  {
   "cell_type": "code",
   "execution_count": 15,
   "id": "d16a5106-efe5-48c3-be8b-a0d4bdce725b",
   "metadata": {},
   "outputs": [
    {
     "name": "stdout",
     "output_type": "stream",
     "text": [
      "Initial value:  13\n",
      "Value received in 'a' = 13\n",
      "Value of 'a' changes to : 15\n",
      "Final value:  13\n"
     ]
    }
   ],
   "source": [
    "def myFunc(a): \n",
    "    print(\"Value received in 'a' =\", a) \n",
    "    a+=2 \n",
    "    print(\"Value of 'a' changes to :\",a) \n",
    "    \n",
    "num=13 \n",
    "print(\"Initial value: \", num) \n",
    "myFunc(num) \n",
    "print(\"Final value: \", num)"
   ]
  },
  {
   "cell_type": "markdown",
   "id": "af187b2c-e1c2-47b8-9f2c-a048ecb01e4f",
   "metadata": {},
   "source": [
    "<p><b>Pass by Reference:</b> When Mutable objects such as list, dict, set, etc., are passed as arguments to the function call, it can be called Call by reference in Python. When the values are modified within the function, the change also gets reflected outside the function. </p>\n",
    "\n",
    "<p><b>Ex -</b></p>"
   ]
  },
  {
   "cell_type": "code",
   "execution_count": 16,
   "id": "91897bed-59a1-488f-b44e-7f42d42ccb0e",
   "metadata": {},
   "outputs": [
    {
     "name": "stdout",
     "output_type": "stream",
     "text": [
      "List before function call : [1]\n",
      "List received:  [1]\n",
      "List after adding some elements: [1, 3, 7, 1]\n",
      "List within called function: [1, 3, 1]\n",
      "List after function call:  [1, 3, 1]\n"
     ]
    }
   ],
   "source": [
    "def myFunc(myList): \n",
    "    print(\"List received: \",myList) \n",
    "    myList.append(3) \n",
    "    myList.extend([7,1]) \n",
    "    print(\"List after adding some elements:\", myList) \n",
    "    myList.remove(7) \n",
    "    print(\"List within called function:\", myList) \n",
    "    return \n",
    "    \n",
    "List1=[1] \n",
    "print(\"List before function call :\",List1) \n",
    "myFunc(List1) \n",
    "print(\"List after function call: \",List1) "
   ]
  },
  {
   "cell_type": "code",
   "execution_count": null,
   "id": "e66960c6-7e54-49fd-af28-8cfed7bff7f0",
   "metadata": {},
   "outputs": [],
   "source": []
  },
  {
   "cell_type": "markdown",
   "id": "2abc888f-c6cc-4f6f-ae5c-a4d7fbe4c9dd",
   "metadata": {},
   "source": [
    "<p><b>8.</b> Create a function that can intake integer or decimal value and do following operations:  </p\n",
    "\n",
    "<p><b>a.</b> Logarithmic function (log x)  </p>\n",
    "\n",
    "<p><b>b.</b> Exponential function (exp(x)) </p>\n",
    "\n",
    "<p><b> c.</b> Power function with base 2 (2 x)</p>\n",
    "\n",
    "<p><b>d.</b> square root. </p>\n",
    "\n",
    "<p><b>Ans.</b></p>"
   ]
  },
  {
   "cell_type": "code",
   "execution_count": 4,
   "id": "5cfc0bff-8b26-45f4-8466-28c29a43df8f",
   "metadata": {},
   "outputs": [
    {
     "name": "stdin",
     "output_type": "stream",
     "text": [
      "Enter any positive no. --  7\n"
     ]
    },
    {
     "name": "stdout",
     "output_type": "stream",
     "text": [
      "\n",
      "Log value of 7 -- 1.9459101490553132\n",
      "\n",
      "Exponential value of 7 is --  1096.6331584284585\n",
      "\n",
      "value of 2^7 -- 128\n",
      "\n"
     ]
    },
    {
     "name": "stdin",
     "output_type": "stream",
     "text": [
      "Enter any square root number. 898\n"
     ]
    },
    {
     "name": "stdout",
     "output_type": "stream",
     "text": [
      "\n",
      "the square root of  898 is --  29.966648127543394\n"
     ]
    }
   ],
   "source": [
    "import math\n",
    "class check_value(Exception):    #User defined exception\n",
    "    pass\n",
    "num = int(input('Enter any positive no. -- '))\n",
    "try:\n",
    "    if(num < 0):\n",
    "        print(num)\n",
    "        raise check_value\n",
    "    else:\n",
    "        print()\n",
    "\n",
    "except check_value:\n",
    "    print('you enter the (-) no.')\n",
    "    num = int(input('Enter any positive no. --'))\n",
    "    print(num)\n",
    "\n",
    "def log_fun(num):        # Performing Logarithmic function.\n",
    "    print('Log value of',str(num),'--',math.log(num))\n",
    "    print()\n",
    "\n",
    "def expo_fun(num):       # Performing Exponential function.\n",
    "    expo_value = math.exp(num)\n",
    "    print('Exponential value of ' + str(num) + ' is -- ' ,expo_value)\n",
    "    print()\n",
    "\n",
    "def power_fun(num):      # Performing Power function with base 2.\n",
    "    exponent = num\n",
    "    base = 2\n",
    "    result = 1\n",
    "    for exponent in range(exponent, 0, -1):\n",
    "        result *= base\n",
    "        \n",
    "    print(\"value of 2^\"+ str(num) + ' -- ' + str(result))\n",
    "    print()\n",
    "\n",
    "def square_root():      # Finding square root value. \n",
    "    sq_value = int (input('Enter any square root number.'))\n",
    "    print()\n",
    "    print('the square root of ',sq_value,'is -- ',math.sqrt(sq_value))\n",
    "\n",
    "log_fun(num)\n",
    "expo_fun(num)\n",
    "power_fun(num)\n",
    "square_root()\n",
    "\n"
   ]
  },
  {
   "cell_type": "code",
   "execution_count": null,
   "id": "2f4e4e84-74d2-4138-9437-0726966757f9",
   "metadata": {},
   "outputs": [],
   "source": []
  },
  {
   "cell_type": "markdown",
   "id": "515cdd7e-9f9b-4a0a-84c6-86b86c9036da",
   "metadata": {},
   "source": [
    "<p><b>9.</b> Create a function that takes a full name as an argument and returns first name and last name.</p>\n",
    "\n",
    "<p><b>Ans.</b></p>"
   ]
  },
  {
   "cell_type": "code",
   "execution_count": 2,
   "id": "1d35a0ea-4920-4b77-a3ce-7544b775339d",
   "metadata": {},
   "outputs": [
    {
     "name": "stdin",
     "output_type": "stream",
     "text": [
      " rishbah kumar\n"
     ]
    },
    {
     "name": "stdout",
     "output_type": "stream",
     "text": [
      "['rishbah', 'kumar']\n",
      "Rishbah\n",
      "Kumar\n"
     ]
    }
   ],
   "source": [
    "def Name(full_name):\n",
    "    my_list = full_name.split()\n",
    "    print(my_list)\n",
    "    return my_list\n",
    "        \n",
    "first_name, last_name = Name(str(input()))\n",
    "print(first_name.capitalize())\n",
    "print(last_name.capitalize())"
   ]
  },
  {
   "cell_type": "code",
   "execution_count": null,
   "id": "22c12a75-c6e2-4a61-81cf-eed03f96c71e",
   "metadata": {},
   "outputs": [],
   "source": []
  }
 ],
 "metadata": {
  "kernelspec": {
   "display_name": "Python 3 (ipykernel)",
   "language": "python",
   "name": "python3"
  },
  "language_info": {
   "codemirror_mode": {
    "name": "ipython",
    "version": 3
   },
   "file_extension": ".py",
   "mimetype": "text/x-python",
   "name": "python",
   "nbconvert_exporter": "python",
   "pygments_lexer": "ipython3",
   "version": "3.11.3"
  }
 },
 "nbformat": 4,
 "nbformat_minor": 5
}
