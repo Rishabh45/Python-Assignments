{
 "cells": [
  {
   "cell_type": "markdown",
   "id": "df0a72d9-7a6b-4970-b8e1-969c3fcc6a04",
   "metadata": {},
   "source": [
    "<p>\n",
    "    <b>1. </b>Create two int type variables, apply addition, subtraction, division and multiplications\n",
    "and store the results in variables. Then print the data in the following format by calling the\n",
    "variables:<br>\n",
    "    First variable is __ & second variable is __.<br>\n",
    "&nbsp;&nbsp;&nbsp;Addition: __ + __ = __<br>\n",
    "&nbsp;&nbsp;&nbsp;Subtraction: __ - __ = __<br>\n",
    "&nbsp;&nbsp;&nbsp;Multiplication: __ * __ = __<br>\n",
    "&nbsp;&nbsp;&nbsp;Division: __ / __ = __\n",
    "    <br><br>\n",
    "    <b>Ans. </b>\n",
    "</p>"
   ]
  },
  {
   "cell_type": "code",
   "execution_count": 2,
   "id": "1a084c7f-eaf4-498a-b173-3a0d42be6c8f",
   "metadata": {},
   "outputs": [
    {
     "data": {
      "text/plain": [
       "['Addition -- 30',\n",
       " 'Subtraction -- 20',\n",
       " 'Multiplication -- 125',\n",
       " 'Division -- 5.0']"
      ]
     },
     "execution_count": 2,
     "metadata": {},
     "output_type": "execute_result"
    }
   ],
   "source": [
    "def calculation(num_1,num_2):\n",
    "\n",
    "  def addition():\n",
    "    add_result = num_1 + num_2\n",
    "    return f'Addition -- {add_result}'\n",
    "\n",
    "  def subtraction():\n",
    "    sub_result = num_1 - num_2\n",
    "    return f'Subtraction -- {sub_result}'\n",
    "\n",
    "  def multiplication():\n",
    "    multip_result = num_1 * num_2\n",
    "    return f'Multiplication -- {multip_result}'\n",
    "\n",
    "  def division():\n",
    "    division_result = num_1 / num_2\n",
    "    return f'Division -- {division_result}'\n",
    "\n",
    "  result = list()\n",
    "\n",
    "  result.append(addition())\n",
    "  result.append(subtraction())\n",
    "  result.append(multiplication())\n",
    "  result.append(division())\n",
    "  return result \n",
    "\n",
    "calculation(25,5)\n"
   ]
  },
  {
   "cell_type": "code",
   "execution_count": null,
   "id": "a56dfd80-acdf-467b-8df9-b91d6fa6d8f9",
   "metadata": {},
   "outputs": [],
   "source": []
  },
  {
   "cell_type": "markdown",
   "id": "a35d91df-af66-4eb5-a22b-da204dc9dbaf",
   "metadata": {},
   "source": [
    "<p>\n",
    "    <b>2. </b>What is the difference between the following operators:<br>\n",
    "    &nbsp;&nbsp;&nbsp;&nbsp;<b>a - </b>‘/’ & ‘//’<br>\n",
    "    &nbsp;&nbsp;&nbsp;&nbsp;<b>b - </b>‘**’ & ‘^’<br><br>\n",
    "    <b>Ans. a - ( / ) - </b>This represent the <b>Normal Division</b> which divides the value on the left by the one on the right. Notice that division results in a floating-point value.<br>\n",
    "    <b>&nbsp;&nbsp;&nbsp;&nbsp;&nbsp;&nbsp;&nbsp;&nbsp;&nbsp;&nbsp;&nbsp;&nbsp; ( // ) - </b>This represent the <b>Floor Division</b> which divides and returns the integer value of the quotient. It neglects the digits after the decimal.<br>\n",
    "    <b>Ex - </b>\n",
    "    \n",
    "</p>"
   ]
  },
  {
   "cell_type": "code",
   "execution_count": 3,
   "id": "8c7b811b-c0bf-40b5-8843-0d621f6a23ac",
   "metadata": {},
   "outputs": [
    {
     "name": "stdout",
     "output_type": "stream",
     "text": [
      "Normal Division --  6.333333333333333\n",
      "Floor Division --  6\n"
     ]
    }
   ],
   "source": [
    "# Normal Division\n",
    "print ('Normal Division -- ',19/3)\n",
    "\n",
    "# Floor Division\n",
    "print('Floor Division -- ',19//3)\n"
   ]
  },
  {
   "cell_type": "markdown",
   "id": "16518cf2-b6ab-4db7-b6cf-fde4c83bdafc",
   "metadata": {},
   "source": [
    "<p>\n",
    "    <b>b - ( ** ) - </b>Double Asterisk or Exponentiation Operator is used for exponentiation in Python. It raises the number on its left to the power of the number on its right.<br>\n",
    "    <b>&nbsp;&nbsp;&nbsp;&nbsp;&nbsp;&nbsp;( ^ ) - </b> It performs bitwise XOR operation between two integers, which means it compares the corresponding bits of the numbers and returns 1 where the bits are different and 0 where they are the same.<br>\n",
    "    <b>Ex - </b>\n",
    "    \n",
    "</p>"
   ]
  },
  {
   "cell_type": "code",
   "execution_count": 5,
   "id": "0df97648-9675-45ea-b1aa-6fe6cc74034b",
   "metadata": {},
   "outputs": [
    {
     "name": "stdout",
     "output_type": "stream",
     "text": [
      "This is equivalent to 2 raised to the power of 3 --  8\n",
      "\n",
      "It performs the bitwise XOR --  6\n"
     ]
    }
   ],
   "source": [
    "# Exponentiation\n",
    "result = 2 ** 3\n",
    "print('This is equivalent to 2 raised to the power of 3 -- ',result)\n",
    "\n",
    "print()\n",
    "\n",
    "# Bitwise XOR\n",
    "result = 5 ^ 3\n",
    "print('It performs the bitwise XOR -- ',result)\n",
    "\n"
   ]
  },
  {
   "cell_type": "code",
   "execution_count": null,
   "id": "627e2793-1f55-490d-8ff5-dee5043d5852",
   "metadata": {},
   "outputs": [],
   "source": []
  },
  {
   "cell_type": "markdown",
   "id": "fa9b872d-1e75-4f06-ad86-622397ba53bd",
   "metadata": {},
   "source": [
    "<p>\n",
    "    <b>3. </b>List the logical operators.<br><br>\n",
    "    <b>Ans. </b>In Python, logical operators are used to perform logical operations on boolean values (True or False). &nbsp;&nbsp;&nbsp;The logical operators in Python are:<br>\n",
    "    <b>&nbsp;&nbsp;&nbsp;&nbsp;&nbsp;&nbsp;a - and :</b> The \"and\" operator returns True if both operands are True; otherwise, it returns False.<br>\n",
    "    <b>&nbsp;&nbsp;&nbsp;&nbsp;&nbsp;&nbsp;b - or : </b>: The \"or\" operator returns True if at least one of the operands is True; otherwise, it returns Fals<br>.<b>&nbsp;&nbsp;&nbsp;&nbsp;&nbsp;&nbsp;c - not : </b>ot: The \"not\" operator returns the opposite boolean value of its operand. If the operand is True, it returns False, and if the operand is False, it returns .<br>\n",
    "    <b>&nbsp;&nbsp;&nbsp;&nbsp;&nbsp;&nbsp;Ex - </b>True\n",
    "</p>"
   ]
  },
  {
   "cell_type": "code",
   "execution_count": 1,
   "id": "b62abb60-20e1-41d9-b4dd-da808d8ad158",
   "metadata": {},
   "outputs": [],
   "source": [
    "# Logical AND\n",
    "result_1 = True and True   # True\n",
    "result_2 = True and False  # False\n",
    "result_3 = False and False # False\n",
    "result_4 = False and True  # False\n",
    "\n",
    "# Logical OR\n",
    "result_5 = True or True     # True\n",
    "result_6 = True or False    # True\n",
    "result_7 = False or False   # False\n",
    "result_8 = False or True    # True\n",
    "\n",
    "# Logical NOT\n",
    "result_9 = not True     # False\n",
    "result_10 = not False    # True\n"
   ]
  },
  {
   "cell_type": "code",
   "execution_count": null,
   "id": "a7f4ec75-f046-47e7-929e-64373c1d7aa0",
   "metadata": {},
   "outputs": [],
   "source": []
  },
  {
   "cell_type": "markdown",
   "id": "79a57aa6-c136-4db3-bd37-5e547a824ea7",
   "metadata": {},
   "source": [
    "<p>\n",
    "    <b>4. </b>Explain right shift operator and left shift operator with examples.<br><br>\n",
    "    <b>Ans. 1-  Right Shift (>>) :</b> The right shift operator moves the bits of an integer to the right by a specified number of positions. It fills the vacant bits on the left with the sign bit (0 for non-negative numbers, 1 for negative numbers). The general syntax is x >> y, where x is the number to be shifted and y is the number of positions to shift.<br>\n",
    "    <b>&nbsp;&nbsp;&nbsp;&nbsp;&nbsp;&nbsp;&nbsp;&nbsp;&nbsp;&nbsp;Ex - </b>\n",
    "</p>"
   ]
  },
  {
   "cell_type": "code",
   "execution_count": 3,
   "id": "aaa46fbd-a44e-4568-95f1-66a525473ba8",
   "metadata": {},
   "outputs": [
    {
     "name": "stdout",
     "output_type": "stream",
     "text": [
      "4\n"
     ]
    }
   ],
   "source": [
    "# Right Shift\n",
    "x = 16  # Binary: 0b10000\n",
    "\n",
    "# Shifting 16 to the right by 2 positions\n",
    "result = x >> 2  # Binary result: 0b00100 (Decimal: 4)\n",
    "print(result)"
   ]
  },
  {
   "cell_type": "markdown",
   "id": "3fff2ac4-6fce-44b5-b860-317e17253489",
   "metadata": {},
   "source": [
    "<p>\n",
    "    <b>2 - Left Shift (<<): </b>The left shift operator moves the bits of an integer to the left by a specified number of positions. It fills the vacant bits on the right with zeroes. The general syntax is x << y, where x is the number to be shifted and y is the number of positions to shift.<br>\n",
    "    <b>&nbsp;&nbsp;&nbsp;&nbsp;&nbsp;Ex - </b>\n",
    "</p>"
   ]
  },
  {
   "cell_type": "code",
   "execution_count": 4,
   "id": "c133c127-38d9-461b-b5ee-2369485d95a1",
   "metadata": {},
   "outputs": [
    {
     "name": "stdout",
     "output_type": "stream",
     "text": [
      "20\n"
     ]
    }
   ],
   "source": [
    "# Left Shift\n",
    "x = 5  # Binary: 0b00101\n",
    "\n",
    "# Shifting 5 to the left by 2 positions\n",
    "result = x << 2  # Binary result: 0b10100 (Decimal: 20)\n",
    "print(result)"
   ]
  },
  {
   "cell_type": "code",
   "execution_count": null,
   "id": "7da47cba-c16a-422e-93f3-1e0ac78d749e",
   "metadata": {},
   "outputs": [],
   "source": []
  },
  {
   "cell_type": "markdown",
   "id": "60ee2dd9-17e6-4898-9b5b-70702b9cbd88",
   "metadata": {},
   "source": [
    "<p>\n",
    "    <b>5. </b>Create a list containing int type data of length 15. Then write a code to check if 10 is\r\n",
    "present in the list or not<br><br>\n",
    "    <b>Ans. </b>.\n",
    "</p>"
   ]
  },
  {
   "cell_type": "code",
   "execution_count": 5,
   "id": "d3ca5eb6-c110-4233-b5d8-a30e4edef687",
   "metadata": {},
   "outputs": [
    {
     "name": "stdout",
     "output_type": "stream",
     "text": [
      "10 is present in the list.\n"
     ]
    }
   ],
   "source": [
    "# Create a list containing int type data of length 15\n",
    "my_list = [1, 3, 5, 7, 9, 10, 15, 20, 25, 30, 35, 40, 45, 50, 55]\n",
    "\n",
    "# Check if 10 is present in the list\n",
    "if 10 in my_list:\n",
    "    print(\"10 is present in the list.\")\n",
    "else:\n",
    "    print(\"10 is not present in the list.\")"
   ]
  },
  {
   "cell_type": "code",
   "execution_count": null,
   "id": "1c02187b-28b4-4aea-ba85-fa403f0ea7e9",
   "metadata": {},
   "outputs": [],
   "source": []
  }
 ],
 "metadata": {
  "kernelspec": {
   "display_name": "Python 3 (ipykernel)",
   "language": "python",
   "name": "python3"
  },
  "language_info": {
   "codemirror_mode": {
    "name": "ipython",
    "version": 3
   },
   "file_extension": ".py",
   "mimetype": "text/x-python",
   "name": "python",
   "nbconvert_exporter": "python",
   "pygments_lexer": "ipython3",
   "version": "3.11.3"
  }
 },
 "nbformat": 4,
 "nbformat_minor": 5
}
