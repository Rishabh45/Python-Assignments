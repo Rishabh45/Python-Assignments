{
 "cells": [
  {
   "cell_type": "markdown",
   "id": "51c64467-35e1-423f-9961-39728cb4c95d",
   "metadata": {},
   "source": [
    "<p><b>1.</b> Why are functions advantageous to have in your programs?</p>\n",
    "<p><b>Ans. </b>Functions are advantageous to have in your programs because they allow us to reduce a complicated program into smaller, more manageable chunks, which reduces the overall complexity of our program. They enhance the readability of a program and breaking the code into smaller functions keeps the program organized, easy to understand and makes it reusable.</p>"
   ]
  },
  {
   "cell_type": "code",
   "execution_count": null,
   "id": "077f0ab0-ea1e-4435-b5b0-db11280b9b82",
   "metadata": {},
   "outputs": [],
   "source": []
  },
  {
   "cell_type": "markdown",
   "id": "85128d16-2b0c-4c40-bb8c-39a146037ae3",
   "metadata": {},
   "source": [
    "<p><b>2.</b> When does the code in a function run: when it's specified or when it's called?<br>\n",
    "    \n",
    "<b>Ans. </b>The code in a function executes when the function is called, not when the function is defined.</p>"
   ]
  },
  {
   "cell_type": "code",
   "execution_count": null,
   "id": "28ac10ca-f088-447a-8810-c7e8d07bfdaf",
   "metadata": {},
   "outputs": [],
   "source": []
  },
  {
   "cell_type": "markdown",
   "id": "bb5900ea-07fa-4306-bfc9-8f8de359df00",
   "metadata": {},
   "source": [
    "<p><b>3.</b> What statement creates a function?<br>\n",
    "\n",
    "<b>Ans. </b>For creating the function <b>def(Definition)</b> revserved keyword is used.</p>"
   ]
  },
  {
   "cell_type": "code",
   "execution_count": null,
   "id": "c3e0bacc-3cac-48cf-981a-a347486d6e81",
   "metadata": {},
   "outputs": [],
   "source": []
  },
  {
   "cell_type": "markdown",
   "id": "1d8953ff-900a-4f37-9548-6cc4bd1874cf",
   "metadata": {},
   "source": [
    "<p><b>4.</b> What is the difference between a function and a function call?<br>\n",
    "    \n",
    "<b>Ans. Function : </b>A function is a block of code that performs a specific task. It is a self-contained unit of code that can be called by other parts of the program.<br>\n",
    "<b>Function call : </b>A function call is when you actually call the function and pass in any required arguments. The function then executes its code and returns a value if necessary.<br>\n",
    "<b>Ex - </b>\n",
    "</p>"
   ]
  },
  {
   "cell_type": "code",
   "execution_count": 1,
   "id": "3e051aaf-7f42-435a-9080-f518f040690d",
   "metadata": {},
   "outputs": [
    {
     "name": "stdin",
     "output_type": "stream",
     "text": [
      "Enter any no.  8\n",
      "Enter any no.  2\n"
     ]
    },
    {
     "name": "stdout",
     "output_type": "stream",
     "text": [
      "Addition -- 10\n",
      "Multiplication -- 16\n",
      "Subtraction -- 6\n",
      "Division -- 4.0\n"
     ]
    }
   ],
   "source": [
    "def calculator(a,b):\n",
    "    return a+b,a*b,a-b,a/b\n",
    "add, multi, subtrac, division = calculator(int(input('Enter any no. ')),int(input('Enter any no. ')))\n",
    "print('Addition --',add)\n",
    "print('Multiplication --',multi)\n",
    "print('Subtraction --',subtrac)\n",
    "print('Division --',division)"
   ]
  },
  {
   "cell_type": "code",
   "execution_count": null,
   "id": "df6751bd-d5bd-49a3-afd3-07d56df12f77",
   "metadata": {},
   "outputs": [],
   "source": []
  },
  {
   "cell_type": "markdown",
   "id": "8cc36f78-44ef-4484-b1b0-954360819a00",
   "metadata": {},
   "source": [
    "<p><b>5.</b> How many global scopes are there in a Python program? How many local scopes?<br>\n",
    "    \n",
    "<b>Ans. </b>There is one global scope, and a local scope is created whenever a function is called.</p>"
   ]
  },
  {
   "cell_type": "code",
   "execution_count": null,
   "id": "c1bb3148-add3-49aa-b19f-2cc805a38d92",
   "metadata": {},
   "outputs": [],
   "source": []
  },
  {
   "cell_type": "markdown",
   "id": "09b48fb2-d275-4548-9e0a-9d1d14648993",
   "metadata": {},
   "source": [
    "<p><b>6. </b>What happens to variables in a local scope when the function call returns?<br>\n",
    "    \n",
    "<b>Ans.</b>When a function call returns, the variables in its local scope are destroyed and their values are no longer accessible.\n",
    "</p>"
   ]
  },
  {
   "cell_type": "code",
   "execution_count": null,
   "id": "951bdf95-ca59-4f48-baea-397a0ad030cb",
   "metadata": {},
   "outputs": [],
   "source": []
  },
  {
   "cell_type": "markdown",
   "id": "508fd06d-b319-4dfa-8f67-dc54833c21aa",
   "metadata": {},
   "source": [
    "<p><b>7.</b> What is the concept of a return value? Is it possible to have a return value in an expression?<br>\n",
    "\n",
    "<b>Ans. </b>A return value is the value that a function call evaluates to. Like any value, a return value can be used as part of an expression.\n",
    "</p>"
   ]
  },
  {
   "cell_type": "code",
   "execution_count": null,
   "id": "53125fd0-583b-4fb0-9a1e-2a582f5a42b2",
   "metadata": {},
   "outputs": [],
   "source": []
  },
  {
   "cell_type": "markdown",
   "id": "67eda52e-12db-4378-8a0e-e25b2542f3a6",
   "metadata": {},
   "source": [
    "<p><b>8.</b> If a function does not have a return statement, what is the return value of a call to that function?<br>\n",
    "    \n",
    "<b>Ans. </b> If a function does not have a return statement, it will return the value None to the function.<br>\n",
    "<b>Ex - </b>\n",
    "</p>"
   ]
  },
  {
   "cell_type": "code",
   "execution_count": 7,
   "id": "8d37e670-2b84-438e-a29a-85fb7119ee5b",
   "metadata": {},
   "outputs": [
    {
     "name": "stdout",
     "output_type": "stream",
     "text": [
      "inside the function --  12.0\n",
      "None\n"
     ]
    }
   ],
   "source": [
    "def Division(a,b):\n",
    "    c = a/b\n",
    "    print('inside the function -- ',c)\n",
    "    return\n",
    "\n",
    "cont = Division(24,2)\n",
    "print(cont)\n",
    "    "
   ]
  },
  {
   "cell_type": "code",
   "execution_count": null,
   "id": "ee68eff3-88fe-4ff7-a512-add4314772c2",
   "metadata": {},
   "outputs": [],
   "source": []
  },
  {
   "cell_type": "markdown",
   "id": "417744b9-9bdb-42c3-a589-71cba18263ae",
   "metadata": {},
   "source": [
    "<p><b>9.</b> How do you make a function variable refer to the global variable?<br>\n",
    "    \n",
    "<b>Ans.</b> Normally, when you create a variable inside a function, that variable is local, and can only be used inside that function.To create a global variable inside a function, you can use the global keyword.<br>\n",
    "<b>Ex - </b>\n",
    "</p>"
   ]
  },
  {
   "cell_type": "code",
   "execution_count": 7,
   "id": "039738d6-5f07-49c4-bc1b-402448d131c8",
   "metadata": {},
   "outputs": [
    {
     "name": "stdout",
     "output_type": "stream",
     "text": [
      "5\n"
     ]
    }
   ],
   "source": [
    "def func():\n",
    "    global x\n",
    "    x = 5\n",
    "    print(x)\n",
    "func()"
   ]
  },
  {
   "cell_type": "code",
   "execution_count": null,
   "id": "6bc9ff48-9125-4da5-a5c9-40062b34b527",
   "metadata": {},
   "outputs": [],
   "source": []
  },
  {
   "cell_type": "markdown",
   "id": "88c8770a-eeb6-49cc-bbed-d94f4387447c",
   "metadata": {},
   "source": [
    "<p><b>10.</b> What is the data type of None?<br>\n",
    "    \n",
    "<b>Ans. </b>The data type of None is NoneType.\n",
    "</p>\n"
   ]
  },
  {
   "cell_type": "code",
   "execution_count": null,
   "id": "972c4ffc-f864-487b-953b-b6d32fbfcc3d",
   "metadata": {},
   "outputs": [],
   "source": []
  },
  {
   "cell_type": "markdown",
   "id": "938d8ff7-3278-4096-a1de-cb150f084b89",
   "metadata": {},
   "source": [
    "<p><b>11.</b> What does the sentence import areallyourpetsnamederic do?<br>\n",
    "    \n",
    "<b>Ans </b> That import statement imports a module named areallyourpetsnamederic.\n",
    "</p>"
   ]
  },
  {
   "cell_type": "code",
   "execution_count": null,
   "id": "e1cbbfda-c9ae-4ce1-81e4-4600f2b53f32",
   "metadata": {},
   "outputs": [],
   "source": []
  },
  {
   "cell_type": "markdown",
   "id": "780b0933-8602-4f04-8210-91accdb1dbf5",
   "metadata": {},
   "source": [
    "<p><b>12.</b> If you had a bacon() feature in a spam module, what would you call it after importing spam?<br>\n",
    "    \n",
    "<b>Ans. </b>This function can be called with spam.bacon().\n",
    "</p>"
   ]
  },
  {
   "cell_type": "code",
   "execution_count": null,
   "id": "337b1fcd-86ae-43e4-8ff6-95ff9600ef25",
   "metadata": {},
   "outputs": [],
   "source": []
  },
  {
   "cell_type": "markdown",
   "id": "7fd679b0-c99e-4521-8a29-0d1127a7033c",
   "metadata": {},
   "source": [
    "<p><b>13.</b> What can you do to save a programme from crashing if it encounters an error?<br>\n",
    "\n",
    "<b>Ans. </b>With the help of exception handling <b>(try and except)</b> can save the program from crashing if its encounter an error.<br><b>Ex -</b>\n",
    "</p>"
   ]
  },
  {
   "cell_type": "code",
   "execution_count": 8,
   "id": "9313c664-8bc4-4c69-aa19-54e0985fa917",
   "metadata": {},
   "outputs": [
    {
     "name": "stdout",
     "output_type": "stream",
     "text": [
      "You divided the value of 4 by 0.\n"
     ]
    }
   ],
   "source": [
    "a = 4\n",
    "b= 0\n",
    "\n",
    "try:\n",
    "    print(a/b)\n",
    "    \n",
    "except ZeroDivisionError:\n",
    "    print('You divided the value of '+ str(a) + ' by 0.')\n"
   ]
  },
  {
   "cell_type": "code",
   "execution_count": null,
   "id": "1804858c-d31a-4d2a-a9a4-4553995267b3",
   "metadata": {},
   "outputs": [],
   "source": []
  },
  {
   "cell_type": "markdown",
   "id": "af10d025-fda3-424f-b2a1-d2c4364b0a9f",
   "metadata": {},
   "source": [
    "<p><b>14.</b> What is the purpose of the try clause? What is the purpose of the except clause?<br>\n",
    "    \n",
    "<b>Ans. </b>The code that could potentially cause an error goes in the try clause. The code that executes if an error happens goes in the except clause.\n",
    "</p>"
   ]
  },
  {
   "cell_type": "code",
   "execution_count": null,
   "id": "74428e4c-e396-4323-9038-20eb8f744e90",
   "metadata": {},
   "outputs": [],
   "source": []
  }
 ],
 "metadata": {
  "kernelspec": {
   "display_name": "Python 3 (ipykernel)",
   "language": "python",
   "name": "python3"
  },
  "language_info": {
   "codemirror_mode": {
    "name": "ipython",
    "version": 3
   },
   "file_extension": ".py",
   "mimetype": "text/x-python",
   "name": "python",
   "nbconvert_exporter": "python",
   "pygments_lexer": "ipython3",
   "version": "3.11.3"
  }
 },
 "nbformat": 4,
 "nbformat_minor": 5
}
