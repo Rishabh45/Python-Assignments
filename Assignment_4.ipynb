{
 "cells": [
  {
   "cell_type": "markdown",
   "id": "e90ba2a3-b55f-4738-85b0-167c227cea30",
   "metadata": {},
   "source": [
    "<p><b>1.</b> What exactly is []?<br>\n",
    "    \n",
    "<b>Ans. </b>In Python, an empty list is defined as the list with no elements or items on the list. You can define an empty list in Python by using square bracket [] or by using a list constructor such as list().<br>\n",
    "<b>Ex - </b>\n",
    "</p>"
   ]
  },
  {
   "cell_type": "code",
   "execution_count": 5,
   "id": "d1b2d00b-b79c-42e5-8775-b04d7c1ba00d",
   "metadata": {},
   "outputs": [
    {
     "name": "stdout",
     "output_type": "stream",
     "text": [
      "[]\n",
      "[]\n"
     ]
    }
   ],
   "source": [
    "emlist = []\n",
    "print(emlist)\n",
    "# Another way to create a empty list.\n",
    "em_list = list()\n",
    "print(em_list)"
   ]
  },
  {
   "cell_type": "code",
   "execution_count": null,
   "id": "6e8ed703-6e64-458a-a6d3-7777f42a459f",
   "metadata": {},
   "outputs": [],
   "source": []
  },
  {
   "cell_type": "markdown",
   "id": "30d38801-c10d-42d6-82ee-4e519190a1c4",
   "metadata": {},
   "source": [
    "<p><b>2.</b> In a list of values stored in a variable called spam, how would you assign the value 'hello' as the\n",
    "third value? (Assume [2, 4, 6, 8, 10] are in spam.)<br>\n",
    "    \n",
    "<b>Ans.</b>\n",
    "</p>"
   ]
  },
  {
   "cell_type": "code",
   "execution_count": 6,
   "id": "94af3e08-7da6-40a0-b744-27bf619cb1b4",
   "metadata": {},
   "outputs": [
    {
     "name": "stdout",
     "output_type": "stream",
     "text": [
      "[2, 4, 6, 8, 10]\n",
      "[2, 4, 6, 'hello', 10]\n"
     ]
    }
   ],
   "source": [
    "spam = [2,4,6,8,10]\n",
    "print(spam)\n",
    "spam[3] = 'hello'   # indexing start at from 0th position thats why hello add in 4th position.  \n",
    "print(spam)"
   ]
  },
  {
   "cell_type": "code",
   "execution_count": null,
   "id": "9724701a-be82-4200-9aed-1c1dbd1b92a5",
   "metadata": {},
   "outputs": [],
   "source": []
  },
  {
   "cell_type": "markdown",
   "id": "6a156752-21a7-4102-af66-4c3cbcf2be6f",
   "metadata": {},
   "source": [
    "<p><h4>Let's pretend the spam includes the list ['a','b','c','d'] for the next three queries.</h4><br>\n",
    "    \n",
    "<b>3.</b> What is the value of spam[int(int('3' * 2) / 11)]?<br>\n",
    "\n",
    "<b>Ans. </b>\n",
    "</p>"
   ]
  },
  {
   "cell_type": "code",
   "execution_count": 11,
   "id": "a9385633-eb28-4b6c-aa6b-2aef9f3a1128",
   "metadata": {},
   "outputs": [
    {
     "name": "stdout",
     "output_type": "stream",
     "text": [
      "['a', 'b', 'c', 'd']\n",
      "d\n"
     ]
    }
   ],
   "source": [
    "spam = ['a','b','c','d']\n",
    "print(spam)\n",
    "print(spam[int(int('3' * 2)/11)])"
   ]
  },
  {
   "cell_type": "code",
   "execution_count": null,
   "id": "1de8c86f-2991-417e-b56b-0706bcf76f78",
   "metadata": {},
   "outputs": [],
   "source": []
  },
  {
   "cell_type": "markdown",
   "id": "23b1a985-44d1-4879-ba2c-05ab4f7487c1",
   "metadata": {},
   "source": [
    "<p><b>4.</b> What is the value of spam[-1]?<br>\n",
    "    \n",
    "<b>Ans. </b>Lists support Negative indexing.\n",
    "</p>"
   ]
  },
  {
   "cell_type": "code",
   "execution_count": 12,
   "id": "07603627-204c-4f2a-93d1-362094ae2a20",
   "metadata": {},
   "outputs": [
    {
     "name": "stdout",
     "output_type": "stream",
     "text": [
      "d\n"
     ]
    }
   ],
   "source": [
    "spam = ['a','b','c','d']\n",
    "print(spam[-1])\n"
   ]
  },
  {
   "cell_type": "code",
   "execution_count": null,
   "id": "b277ff9f-d3ea-4974-a5ff-ef6e83aed384",
   "metadata": {},
   "outputs": [],
   "source": []
  },
  {
   "cell_type": "markdown",
   "id": "b680e43a-ef9f-4c12-8789-e0300cce8083",
   "metadata": {},
   "source": [
    "<p><b>5.</b> What is the value of spam[:2]?<br>\n",
    "    \n",
    "<b>Ans. </b>\n",
    "</p>"
   ]
  },
  {
   "cell_type": "code",
   "execution_count": 16,
   "id": "716c6034-9e44-447e-a705-04d969edaa0a",
   "metadata": {},
   "outputs": [
    {
     "name": "stdout",
     "output_type": "stream",
     "text": [
      "['a', 'b']\n"
     ]
    }
   ],
   "source": [
    "spam = ['a','b','c','d']\n",
    "print(spam[:2])"
   ]
  },
  {
   "cell_type": "code",
   "execution_count": null,
   "id": "afeb9117-61b6-4e10-9014-548eb723dae1",
   "metadata": {},
   "outputs": [],
   "source": []
  },
  {
   "cell_type": "markdown",
   "id": "b2863c6f-7b57-4e2f-aad7-35d017b12cbd",
   "metadata": {},
   "source": [
    "<p><h4>Let's pretend bacon has the list [3.14,'cat',11,'cat',True] for the next three question.<h4>\r\n",
    "</p>"
   ]
  },
  {
   "cell_type": "markdown",
   "id": "552d815a-50d8-4238-86ce-018ffae6fd23",
   "metadata": {},
   "source": [
    "<p><b>6. </b>What is the value of bacon.index('cat')?<br>\n",
    "\n",
    "<b>Ans. </b>The index() function will search first matching string and return the index value of it.</p>"
   ]
  },
  {
   "cell_type": "code",
   "execution_count": 15,
   "id": "8a7cca83-b5e2-4537-9ac2-baba5cb689cb",
   "metadata": {},
   "outputs": [
    {
     "name": "stdout",
     "output_type": "stream",
     "text": [
      "index value of bacon(cat) --  1\n"
     ]
    }
   ],
   "source": [
    "bacon = [3.14,'cat',11,'cat',True]\n",
    "print('index value of bacon(cat) -- ',bacon.index('cat'))"
   ]
  },
  {
   "cell_type": "code",
   "execution_count": null,
   "id": "f92fa78f-b789-4a02-958c-aeb254608962",
   "metadata": {},
   "outputs": [],
   "source": []
  },
  {
   "cell_type": "markdown",
   "id": "26e4c1b4-bd65-4c0c-8ec7-158e6d9fd24b",
   "metadata": {},
   "source": [
    "<p><b>7.</b> How does bacon.append(99) change the look of the list value in bacon?<br>\n",
    "    \n",
    "<b>Ans. </b>bacon.appends(99) will insert the 99 into the last of list.\n",
    "</p>"
   ]
  },
  {
   "cell_type": "code",
   "execution_count": 18,
   "id": "8affba41-e2bf-442a-8ebe-5f3bcec702be",
   "metadata": {},
   "outputs": [
    {
     "name": "stdout",
     "output_type": "stream",
     "text": [
      "[3.14, 'cat', 11, 'cat', True, 99]\n",
      "[3.14, 'cat', 11, 'cat', True, 99, 99]\n"
     ]
    }
   ],
   "source": [
    "print(bacon)\n",
    "bacon.append(99)\n",
    "print(bacon)"
   ]
  },
  {
   "cell_type": "code",
   "execution_count": null,
   "id": "9c1efc75-e1c4-4010-b9dd-529381262372",
   "metadata": {},
   "outputs": [],
   "source": []
  },
  {
   "cell_type": "markdown",
   "id": "b3dab734-aacd-4291-b9a8-6491c89aded1",
   "metadata": {},
   "source": [
    "<p><b>8.</b> How does bacon.remove('cat') change the look of the list in bacon?<br>\n",
    "    \n",
    "<b>Ans. </b>bacon.remove('cat') will delete cat from the first apperence of the element in the list bacon. \n",
    "</p>"
   ]
  },
  {
   "cell_type": "code",
   "execution_count": 19,
   "id": "4bbdcd93-9155-4998-8882-d59a774acdaa",
   "metadata": {},
   "outputs": [
    {
     "name": "stdout",
     "output_type": "stream",
     "text": [
      "[3.14, 'cat', 11, 'cat', True, 99, 99]\n",
      "[3.14, 11, 'cat', True, 99, 99]\n"
     ]
    }
   ],
   "source": [
    "print(bacon)\n",
    "bacon.remove('cat')\n",
    "print(bacon)"
   ]
  },
  {
   "cell_type": "code",
   "execution_count": null,
   "id": "87ccff70-12ab-4c07-b65b-0955633b4b45",
   "metadata": {},
   "outputs": [],
   "source": []
  },
  {
   "cell_type": "markdown",
   "id": "f13051eb-4030-493e-8c0c-0d02387dc2ba",
   "metadata": {},
   "source": [
    "<p><b>9.</b> What are the list concatenation and list replication operators? <br>\n",
    "    \n",
    "<b>Ans. </b>The operator for list concatenation is +, while the operator for replication is *.<br>\n",
    "<b>Ex - </b>\n",
    "</p>"
   ]
  },
  {
   "cell_type": "code",
   "execution_count": 24,
   "id": "217a0441-6419-4662-b14d-f4a55c54dcbd",
   "metadata": {},
   "outputs": [
    {
     "name": "stdout",
     "output_type": "stream",
     "text": [
      "Concatenation --  [1.3, 5, 'Rishabh', 'Kumar', 1.5, 6, 'Rishabh', 'Kumar']\n",
      "Replication --  [1.3, 5, 'Rishabh', 'Kumar', 1.3, 5, 'Rishabh', 'Kumar', 1.3, 5, 'Rishabh', 'Kumar']\n"
     ]
    }
   ],
   "source": [
    "list_1 = [1.3,5,'Rishabh','Kumar']\n",
    "list_2 = [1.5,6,'Rishabh','Kumar']\n",
    "print('Concatenation -- ',list_1 + list_2)\n",
    "print(\"Replication -- \",list_1*3)"
   ]
  },
  {
   "cell_type": "code",
   "execution_count": null,
   "id": "968d0f5c-2566-4ab7-a301-6b9ee3be1f7c",
   "metadata": {},
   "outputs": [],
   "source": []
  },
  {
   "cell_type": "markdown",
   "id": "8e6c760c-6fc0-4f46-8672-23973092da5b",
   "metadata": {},
   "source": [
    "<p><b>10.</b> What is difference between the list methods append() and insert()?<br>\n",
    "    \n",
    "<b>Ans. append() - </b>This will insert into the last element in list.<br>\n",
    "    <b>insert() - </b>This will insert into the defined index postion into the list with two parameters (index,value).\n",
    "</p>"
   ]
  },
  {
   "cell_type": "code",
   "execution_count": null,
   "id": "0fd15ee0-7c84-4762-a972-2290e09094f7",
   "metadata": {},
   "outputs": [],
   "source": []
  },
  {
   "cell_type": "markdown",
   "id": "c728012c-d656-4c77-ab27-b8bb672a8d3d",
   "metadata": {},
   "source": [
    "<p><b>11.</b> What are the two methods for removing items from a list?<br>\n",
    "    \n",
    "<b>Ans. </b>The <b>pop()</b> and <b>remove()</b> method are two ways to remove values from a list.\n",
    "</p>"
   ]
  },
  {
   "cell_type": "code",
   "execution_count": null,
   "id": "2bdb6771-3c8a-4b73-b3b1-0d3eef6f6059",
   "metadata": {},
   "outputs": [],
   "source": []
  },
  {
   "cell_type": "markdown",
   "id": "2a023878-cbf7-474e-b885-a9d3085d9f3e",
   "metadata": {},
   "source": [
    "<p><b>12.</b> Describe how list values and string values are identical.<br>\n",
    "    \n",
    "<b>Ans. </b>Both lists and strings can be passed to len() function, have indexes and slices, be used in for loops, be concatenated or replicated, and be used with the in and not in operators.\n",
    "</p>"
   ]
  },
  {
   "cell_type": "code",
   "execution_count": null,
   "id": "1a82f20f-500c-43ec-91f4-42797191b727",
   "metadata": {},
   "outputs": [],
   "source": []
  },
  {
   "cell_type": "markdown",
   "id": "930947e0-5cfa-4669-a419-046d45d6b5ea",
   "metadata": {},
   "source": [
    "<p>13. What's the difference between tuples and lists?<br>\n",
    "    \n",
    "<b>Ans. List -</b><br> \n",
    "\n",
    "<b>Definition:</b> A list in Python is an ordered collection (also known as a sequence) of items. Lists are similar to arrays in other languages, but with additional functionality.<br>\n",
    "<b>Mutable:</b> Lists are mutable, which means their elements can be changed (added, modified, or deleted) after they are created.<br>\n",
    "<b>Creation:</b> A list is created by placing items (elements) inside square brackets [], separated by commas.<br>\n",
    "<b>Heterogeneous Elements: </b> A list can contain elements of different types: integers, floats, strings, and even other lists or tuples.<br>\n",
    "<b>Indexing and Slicing:</b> Lists support indexing and slicing to access and modify their elements. Python list indices start at 0.<br>\n",
    "\n",
    "<b>Tuples - </b><br>\n",
    "\n",
    "<b>Definition:</b> A tuple in Python is similar to a list. It's an ordered collection of items.<br>\n",
    "<b>Immutable:</b> The major difference from lists is that tuples are immutable, which means their elements cannot be changed (no addition, modification, or deletion) after they are created.<br>\n",
    "<b>Creation:</b> A tuple is created by placing items (elements) inside parentheses (), separated by commas.<br>\n",
    "<b>Heterogeneous Elements:</b> Like lists, a tuple can also contain elements of different types: integers, floats, strings, and even other tuples or lists.<br>\n",
    "<b>Indexing and Slicing:</b> Tuples also support indexing and slicing, like lists, but you cannot modify their elements.\n",
    "\n",
    "</p>"
   ]
  },
  {
   "cell_type": "code",
   "execution_count": null,
   "id": "c4ac9a1b-d0af-4a93-af75-5216a1de9350",
   "metadata": {},
   "outputs": [],
   "source": []
  },
  {
   "cell_type": "markdown",
   "id": "bdc46ece-8609-4628-8355-9ef6817de019",
   "metadata": {},
   "source": [
    "<p><b>14.</b> How do you type a tuple value that only contains the integer 42?<br>\n",
    "    \n",
    "<b>Ans. </b>(42,) The trailing comma is mandatory. otherwise its considered as a int by python Interpreter.\n",
    "</p>"
   ]
  },
  {
   "cell_type": "code",
   "execution_count": 25,
   "id": "418b794c-54bc-4861-8e7e-f8fd263a7e1e",
   "metadata": {},
   "outputs": [
    {
     "name": "stdout",
     "output_type": "stream",
     "text": [
      "<class 'int'>\n",
      "<class 'tuple'>\n"
     ]
    }
   ],
   "source": [
    "tup1=(42)\n",
    "tup2=(42,)\n",
    "print(type(tup1))\n",
    "print(type(tup2))"
   ]
  },
  {
   "cell_type": "code",
   "execution_count": null,
   "id": "123ed1be-730c-4523-ac7f-96199b99c713",
   "metadata": {},
   "outputs": [],
   "source": []
  },
  {
   "cell_type": "markdown",
   "id": "4ed5090a-02a9-4319-81ea-b216e17e795c",
   "metadata": {},
   "source": [
    "<p><b>15.</b> How do you get a list value's tuple form? How do you get a tuple value&'s list form?<br>\n",
    "    \n",
    "<b>Ans. </b>The tuple() and list() functions, respectively are used to convert a list to tuple and vice versa.\n",
    "</p>"
   ]
  },
  {
   "cell_type": "code",
   "execution_count": 26,
   "id": "48507b92-738a-4caa-820c-507f86bac94d",
   "metadata": {},
   "outputs": [
    {
     "name": "stdout",
     "output_type": "stream",
     "text": [
      "value of tuple in list form --  [1, 3, 5, 6]\n",
      "value of list in tuple form --  (0, 6, 3, 4, 5)\n"
     ]
    }
   ],
   "source": [
    "tup = (1,3,5,6)\n",
    "mylist = [0,6,3,4,5]\n",
    "print('value of tuple in list form -- ',list(tup))\n",
    "print('value of list in tuple form -- ',tuple(mylist))"
   ]
  },
  {
   "cell_type": "code",
   "execution_count": null,
   "id": "140dc892-0d30-4a8c-92c3-0ae3e685cffd",
   "metadata": {},
   "outputs": [],
   "source": []
  },
  {
   "cell_type": "markdown",
   "id": "2cff8c58-6922-49a9-a37f-43a20c3ba77d",
   "metadata": {},
   "source": [
    "<p><b>16.</b> Variables that \"contain\" list values are not necessarily lists themselves. Instead, what do they contain?<br>\n",
    "    \n",
    "<b>Ans. </b>Variables will contain references to list values rather than list values themselves. But for strings and integer values, variables simply contain the string or integer value.\n",
    "</p>"
   ]
  },
  {
   "cell_type": "code",
   "execution_count": null,
   "id": "8deb1538-eb69-4e66-b502-1fb9a5fa69fd",
   "metadata": {},
   "outputs": [],
   "source": []
  },
  {
   "cell_type": "markdown",
   "id": "10214fcc-5734-4c1e-84c6-3e5438b453b9",
   "metadata": {},
   "source": [
    "<p><b>17.</b> How do you distinguish between copy.copy() and copy.deepcopy()?<br>\n",
    "    \n",
    "<b>Ans. </b>The <b>copy.copy()</b> function will do a shallow copy of a list, while the <b>copy.deepcopy()</b> function will do a deep copy of a list. That is, only <b>copy.deepcopy()</b> will duplicate any lists inside the list.\n",
    "</p>"
   ]
  },
  {
   "cell_type": "code",
   "execution_count": null,
   "id": "2209285e-ca2f-4c44-b149-eee24c949789",
   "metadata": {},
   "outputs": [],
   "source": []
  }
 ],
 "metadata": {
  "kernelspec": {
   "display_name": "Python 3 (ipykernel)",
   "language": "python",
   "name": "python3"
  },
  "language_info": {
   "codemirror_mode": {
    "name": "ipython",
    "version": 3
   },
   "file_extension": ".py",
   "mimetype": "text/x-python",
   "name": "python",
   "nbconvert_exporter": "python",
   "pygments_lexer": "ipython3",
   "version": "3.11.3"
  }
 },
 "nbformat": 4,
 "nbformat_minor": 5
}
