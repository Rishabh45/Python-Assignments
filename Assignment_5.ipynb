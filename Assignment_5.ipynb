{
 "cells": [
  {
   "cell_type": "markdown",
   "id": "8c92262d-906a-47a8-a485-6ab8a03399d3",
   "metadata": {},
   "source": [
    "<p><b>1.</b> What does an empty dictionary's code look like?<br>\n",
    "    <b>Ans. </b>Python empty dictionary means that it does not contain any key-value pair elements.<br>\n",
    "    <b>Ex - </b>\n",
    "    </p>"
   ]
  },
  {
   "cell_type": "code",
   "execution_count": 7,
   "id": "a082f504-3bfe-45b0-97c2-1ccb34784a2b",
   "metadata": {},
   "outputs": [
    {
     "name": "stdout",
     "output_type": "stream",
     "text": [
      "<class 'dict'>\n",
      "<class 'dict'>\n"
     ]
    }
   ],
   "source": [
    "empty_dict = {}  #empty_dict is a variable containe empty dictionary.\n",
    "# Or\n",
    "dict = {}   # Here dict is a keyword to create dictionary.\n",
    "print(type(dict))\n",
    "print(type(empty_dict))"
   ]
  },
  {
   "cell_type": "code",
   "execution_count": null,
   "id": "687abb33-f650-4933-8a9a-c3b9931ed6b2",
   "metadata": {},
   "outputs": [],
   "source": []
  },
  {
   "cell_type": "markdown",
   "id": "c94e0f7d-2251-4671-92bd-1e1fa480edcb",
   "metadata": {},
   "source": [
    "<p><b>2. </b>What is the value of a dictionary value with the key 'foo' and the value 42?<br>\n",
    "    <b>Ans. </b>\n",
    "</p>"
   ]
  },
  {
   "cell_type": "code",
   "execution_count": 8,
   "id": "36f3fb92-76c5-48ca-8199-78f86806d754",
   "metadata": {},
   "outputs": [
    {
     "data": {
      "text/plain": [
       "{'foo': 42}"
      ]
     },
     "execution_count": 8,
     "metadata": {},
     "output_type": "execute_result"
    }
   ],
   "source": [
    "{'foo': 42}"
   ]
  },
  {
   "cell_type": "code",
   "execution_count": null,
   "id": "55773709-4684-4518-99a3-69df09421178",
   "metadata": {},
   "outputs": [],
   "source": []
  },
  {
   "cell_type": "markdown",
   "id": "27160773-484b-4883-9c61-1f3529b3a27d",
   "metadata": {},
   "source": [
    "<p>\n",
    "    <b>3. </b>What is the most significant distinction between a dictionary and a list?<br>\n",
    "    <b>Ans. </b>Most significant difference -<br>\n",
    "                List - items in list are Ordered.<br>\n",
    "                Dictionary : iten in dictionary are unordered.\n",
    "</p>"
   ]
  },
  {
   "cell_type": "code",
   "execution_count": null,
   "id": "5ceae2a0-9a88-4264-8537-513e170c1d7c",
   "metadata": {},
   "outputs": [],
   "source": []
  },
  {
   "cell_type": "markdown",
   "id": "e5c6f250-a735-4c60-9c82-b8398631f795",
   "metadata": {},
   "source": [
    "<p><b>4.</b> What happens if you try to access spam['foo'] if spam is {'bar': 100}?<br>\n",
    "    <b>Ans. </b>This will give us key error.<br>\n",
    "    <b>Ex -</b>\n",
    "</p>"
   ]
  },
  {
   "cell_type": "code",
   "execution_count": 9,
   "id": "9e2cb5e8-227a-4f3f-8081-9e31cc344cd7",
   "metadata": {},
   "outputs": [
    {
     "ename": "KeyError",
     "evalue": "'foo'",
     "output_type": "error",
     "traceback": [
      "\u001b[1;31m---------------------------------------------------------------------------\u001b[0m",
      "\u001b[1;31mKeyError\u001b[0m                                  Traceback (most recent call last)",
      "Cell \u001b[1;32mIn[9], line 2\u001b[0m\n\u001b[0;32m      1\u001b[0m spam \u001b[38;5;241m=\u001b[39m {\u001b[38;5;124m'\u001b[39m\u001b[38;5;124mbar\u001b[39m\u001b[38;5;124m'\u001b[39m:\u001b[38;5;241m100\u001b[39m}\n\u001b[1;32m----> 2\u001b[0m \u001b[43mspam\u001b[49m\u001b[43m[\u001b[49m\u001b[38;5;124;43m'\u001b[39;49m\u001b[38;5;124;43mfoo\u001b[39;49m\u001b[38;5;124;43m'\u001b[39;49m\u001b[43m]\u001b[49m\n",
      "\u001b[1;31mKeyError\u001b[0m: 'foo'"
     ]
    }
   ],
   "source": [
    "spam = {'bar':100}\n",
    "spam['foo']\n"
   ]
  },
  {
   "cell_type": "code",
   "execution_count": null,
   "id": "114bc9d7-2e11-4ec2-bb19-66f4ece1e977",
   "metadata": {},
   "outputs": [],
   "source": []
  },
  {
   "cell_type": "markdown",
   "id": "7f2b0495-5823-4bfc-ab44-d74110681882",
   "metadata": {},
   "source": [
    "<p><b>5. </b>If a dictionary is stored in spam, what is the difference between the expressions 'cat' in spam and 'cat' in spam.keys()?<br>\n",
    "    <b>Ans. </b>There is no differnce, both check if 'cat' is key of the dictionary and if its a key, returns True.      <br>\n",
    "    <b>Ex -</b>\n",
    "</p>"
   ]
  },
  {
   "cell_type": "code",
   "execution_count": 10,
   "id": "73c3b1d8-c6fe-445c-8951-03417f7ecabd",
   "metadata": {},
   "outputs": [
    {
     "data": {
      "text/plain": [
       "True"
      ]
     },
     "execution_count": 10,
     "metadata": {},
     "output_type": "execute_result"
    }
   ],
   "source": [
    "spam ={'cat':100}\n",
    "'cat' in spam"
   ]
  },
  {
   "cell_type": "code",
   "execution_count": 11,
   "id": "4b03e939-3d5b-4791-9f47-cee571a7764e",
   "metadata": {},
   "outputs": [
    {
     "data": {
      "text/plain": [
       "True"
      ]
     },
     "execution_count": 11,
     "metadata": {},
     "output_type": "execute_result"
    }
   ],
   "source": [
    "'cat' in spam.keys()"
   ]
  },
  {
   "cell_type": "code",
   "execution_count": null,
   "id": "49e78a44-3bf6-477b-a51b-314f6d9c82f0",
   "metadata": {},
   "outputs": [],
   "source": []
  },
  {
   "cell_type": "markdown",
   "id": "30be26d9-333b-48eb-80b0-770ff7b6c969",
   "metadata": {},
   "source": [
    "<p><b>6. </b>If a dictionary is stored in spam, what is the difference between the expressions 'cat' in spam and 'cat' in spam.values()?<br>\n",
    "    <b>Ans. </b>'cat' in spam checks whether there is a 'cat' key in the dictionary, while 'cat' in spam.values()        checks whether there is a value 'cat' for one of the keys in spam.<br>\n",
    "    <b>Ex -</b>\n",
    "</p>"
   ]
  },
  {
   "cell_type": "code",
   "execution_count": 12,
   "id": "d9e7d79f-cee8-4d7f-9b15-aee5e231c108",
   "metadata": {},
   "outputs": [
    {
     "data": {
      "text/plain": [
       "True"
      ]
     },
     "execution_count": 12,
     "metadata": {},
     "output_type": "execute_result"
    }
   ],
   "source": [
    "spam ={'cat':100}\n",
    "'cat' in spam"
   ]
  },
  {
   "cell_type": "code",
   "execution_count": 13,
   "id": "55c792db-8eb7-4a34-a154-589a0447d7ec",
   "metadata": {},
   "outputs": [
    {
     "data": {
      "text/plain": [
       "False"
      ]
     },
     "execution_count": 13,
     "metadata": {},
     "output_type": "execute_result"
    }
   ],
   "source": [
    "spam ={'cat':100}\n",
    "'cat' in spam.values()"
   ]
  },
  {
   "cell_type": "code",
   "execution_count": null,
   "id": "5c0c88b4-1f61-491e-ab45-c8eee5ef5e82",
   "metadata": {},
   "outputs": [],
   "source": []
  },
  {
   "cell_type": "markdown",
   "id": "4cb5a8a2-a11a-4716-911f-64f876bac5d2",
   "metadata": {},
   "source": [
    "<p><b>7. </b>What is a shortcut for the following code?<br>\n",
    "if 'color' not in spam:<br>\n",
    "spam['color'] = 'black'<br>\n",
    "<b>Ans. </b>\n",
    "</p>"
   ]
  },
  {
   "cell_type": "code",
   "execution_count": 16,
   "id": "25fb1d4f-8bed-4815-8d85-f3fd9e71b5ea",
   "metadata": {},
   "outputs": [
    {
     "name": "stdout",
     "output_type": "stream",
     "text": [
      "{'cat': 100, 'color': 'black'}\n",
      "<class 'dict'>\n"
     ]
    }
   ],
   "source": [
    "spam ={'cat':100}\n",
    "spam.setdefault('color','black')\n",
    "print(spam)\n",
    "print(type(spam))"
   ]
  },
  {
   "cell_type": "code",
   "execution_count": null,
   "id": "b9c8833b-3382-4f05-a820-0547625272e1",
   "metadata": {},
   "outputs": [],
   "source": []
  },
  {
   "cell_type": "markdown",
   "id": "0685b285-fbb4-4a0d-958a-a6ae4bc83bd9",
   "metadata": {},
   "source": [
    "<p><b>8. </b>How do you 'pretty print' dictionary values using which module and function?\n",
    "    <br>\n",
    "    <b>Ans. </b>\n",
    "</p>"
   ]
  },
  {
   "cell_type": "code",
   "execution_count": 18,
   "id": "b7621d1d-eb74-446e-b13d-c3897052c63c",
   "metadata": {},
   "outputs": [],
   "source": [
    "import pprint\n",
    "dct = [ {'Name': 'Shiva', 'Age': '23', 'Country': 'India'},\n",
    "  {'Name': 'Anna', 'Age': '44', 'Country': 'China'},\n",
    "  {'Name': 'Joe', 'Age': '29', 'Country': 'UK'},\n",
    "  {'Name': 'Chumlee', 'Age': '35', 'Country': 'USA'}\n",
    "]"
   ]
  },
  {
   "cell_type": "code",
   "execution_count": 19,
   "id": "e5eefead-b885-42b9-8a93-50a66a012a6c",
   "metadata": {},
   "outputs": [
    {
     "name": "stdout",
     "output_type": "stream",
     "text": [
      "[{'Age': '23', 'Country': 'India', 'Name': 'Shiva'},\n",
      " {'Age': '44', 'Country': 'China', 'Name': 'Anna'},\n",
      " {'Age': '29', 'Country': 'UK', 'Name': 'Joe'},\n",
      " {'Age': '35', 'Country': 'USA', 'Name': 'Chumlee'}]\n"
     ]
    }
   ],
   "source": [
    "# printing with pprint()\n",
    "pprint.pprint(dct)"
   ]
  },
  {
   "cell_type": "code",
   "execution_count": 21,
   "id": "c120c1bd-ecb5-49a8-bed5-3a05a4512774",
   "metadata": {},
   "outputs": [
    {
     "name": "stdout",
     "output_type": "stream",
     "text": [
      "[{'Name': 'Shiva', 'Age': '23', 'Country': 'India'}, {'Name': 'Anna', 'Age': '44', 'Country': 'China'}, {'Name': 'Joe', 'Age': '29', 'Country': 'UK'}, {'Name': 'Chumlee', 'Age': '35', 'Country': 'USA'}]\n"
     ]
    }
   ],
   "source": [
    "#Printing with print()\n",
    "print(dct)"
   ]
  },
  {
   "cell_type": "code",
   "execution_count": null,
   "id": "810e885c-acb6-43d2-a7f9-ac2035c84b87",
   "metadata": {},
   "outputs": [],
   "source": []
  }
 ],
 "metadata": {
  "kernelspec": {
   "display_name": "Python 3 (ipykernel)",
   "language": "python",
   "name": "python3"
  },
  "language_info": {
   "codemirror_mode": {
    "name": "ipython",
    "version": 3
   },
   "file_extension": ".py",
   "mimetype": "text/x-python",
   "name": "python",
   "nbconvert_exporter": "python",
   "pygments_lexer": "ipython3",
   "version": "3.11.3"
  }
 },
 "nbformat": 4,
 "nbformat_minor": 5
}
